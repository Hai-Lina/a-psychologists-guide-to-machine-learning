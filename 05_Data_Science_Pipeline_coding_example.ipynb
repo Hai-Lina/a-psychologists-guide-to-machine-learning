{
 "cells": [
  {
   "cell_type": "markdown",
   "id": "bc6c8733",
   "metadata": {},
   "source": [
    "# DIE DATA SCIENCE PIPELINE - EIN BEISPIEL MIT CODE"
   ]
  },
  {
   "cell_type": "markdown",
   "id": "b8a2208c",
   "metadata": {},
   "source": [
    "Ressourcen: <br />\n",
    "https://towardsdatascience.com/machine-learning-project-predicting-boston-house-prices-with-regression-b4e47493633d\n",
    "https://towardsdatascience.com/predicting-housing-prices-using-a-scikit-learns-random-forest-model-e736b59d56c5"
   ]
  },
  {
   "cell_type": "code",
   "execution_count": 1,
   "id": "f2a23fcb",
   "metadata": {},
   "outputs": [],
   "source": [
    "import warnings\n",
    "warnings.filterwarnings(\"ignore\")"
   ]
  },
  {
   "cell_type": "markdown",
   "id": "b1816c93",
   "metadata": {},
   "source": [
    "## 1 // DATA COLLECTION"
   ]
  },
  {
   "cell_type": "code",
   "execution_count": 2,
   "id": "942e28c6",
   "metadata": {},
   "outputs": [],
   "source": [
    "from sklearn.datasets import load_boston\n",
    "import numpy as np\n",
    "import pandas as pd\n",
    "\n",
    "# import the Boston Housing Prices Dataset from the sklearn library and store it in a pandas Dataframe\n",
    "data = load_boston()\n",
    "x_y = np.hstack((data.data, data.target.reshape(len(data.target), 1)))\n",
    "df = pd.DataFrame(x_y, columns=list(data.feature_names)+['target'])"
   ]
  },
  {
   "cell_type": "markdown",
   "id": "9427e58c",
   "metadata": {},
   "source": [
    "Wir arbeiten mit dem \"Boston Housing Prices Dataset\", ein Datensatz, der 1978 zusammengestellt wurde und 506 Häuser in den Vororten Bostons beinhaltet, die auf 13 Variablen beschrieben werden. **Unser Ziel: Den Verkaufspreis ungesehener Häuser mit bekannten Charakteristiken vorhersagen!** Der Datensatz ist frei zugänglich und zum Beispiel in der scikit learn library hinterlegt."
   ]
  },
  {
   "cell_type": "markdown",
   "id": "4a4b939f",
   "metadata": {},
   "source": [
    "## 2 // DATA EXPLORATION & CLEANING"
   ]
  },
  {
   "cell_type": "code",
   "execution_count": 3,
   "id": "6d2f1e74",
   "metadata": {},
   "outputs": [
    {
     "name": "stdout",
     "output_type": "stream",
     "text": [
      ".. _boston_dataset:\n",
      "\n",
      "Boston house prices dataset\n",
      "---------------------------\n",
      "\n",
      "**Data Set Characteristics:**  \n",
      "\n",
      "    :Number of Instances: 506 \n",
      "\n",
      "    :Number of Attributes: 13 numeric/categorical predictive. Median Value (attribute 14) is usually the target.\n",
      "\n",
      "    :Attribute Information (in order):\n",
      "        - CRIM     per capita crime rate by town\n",
      "        - ZN       proportion of residential land zoned for lots over 25,000 sq.ft.\n",
      "        - INDUS    proportion of non-retail business acres per town\n",
      "        - CHAS     Charles River dummy variable (= 1 if tract bounds river; 0 otherwise)\n",
      "        - NOX      nitric oxides concentration (parts per 10 million)\n",
      "        - RM       average number of rooms per dwelling\n",
      "        - AGE      proportion of owner-occupied units built prior to 1940\n",
      "        - DIS      weighted distances to five Boston employment centres\n",
      "        - RAD      index of accessibility to radial highways\n",
      "        - TAX      full-value property-tax rate per $10,000\n",
      "        - PTRATIO  pupil-teacher ratio by town\n",
      "        - B        1000(Bk - 0.63)^2 where Bk is the proportion of blacks by town\n",
      "        - LSTAT    % lower status of the population\n",
      "        - MEDV     Median value of owner-occupied homes in $1000's\n",
      "\n",
      "    :Missing Attribute Values: None\n",
      "\n",
      "    :Creator: Harrison, D. and Rubinfeld, D.L.\n",
      "\n",
      "This is a copy of UCI ML housing dataset.\n",
      "https://archive.ics.uci.edu/ml/machine-learning-databases/housing/\n",
      "\n",
      "\n",
      "This dataset was taken from the StatLib library which is maintained at Carnegie Mellon University.\n",
      "\n",
      "The Boston house-price data of Harrison, D. and Rubinfeld, D.L. 'Hedonic\n",
      "prices and the demand for clean air', J. Environ. Economics & Management,\n",
      "vol.5, 81-102, 1978.   Used in Belsley, Kuh & Welsch, 'Regression diagnostics\n",
      "...', Wiley, 1980.   N.B. Various transformations are used in the table on\n",
      "pages 244-261 of the latter.\n",
      "\n",
      "The Boston house-price data has been used in many machine learning papers that address regression\n",
      "problems.   \n",
      "     \n",
      ".. topic:: References\n",
      "\n",
      "   - Belsley, Kuh & Welsch, 'Regression diagnostics: Identifying Influential Data and Sources of Collinearity', Wiley, 1980. 244-261.\n",
      "   - Quinlan,R. (1993). Combining Instance-Based and Model-Based Learning. In Proceedings on the Tenth International Conference of Machine Learning, 236-243, University of Massachusetts, Amherst. Morgan Kaufmann.\n",
      "\n"
     ]
    }
   ],
   "source": [
    "# the dataset comes with a description that can be obtained via the DESCR attribute\n",
    "print(data.DESCR)"
   ]
  },
  {
   "cell_type": "code",
   "execution_count": 4,
   "id": "25a67396",
   "metadata": {},
   "outputs": [
    {
     "data": {
      "text/html": [
       "<div>\n",
       "<style scoped>\n",
       "    .dataframe tbody tr th:only-of-type {\n",
       "        vertical-align: middle;\n",
       "    }\n",
       "\n",
       "    .dataframe tbody tr th {\n",
       "        vertical-align: top;\n",
       "    }\n",
       "\n",
       "    .dataframe thead th {\n",
       "        text-align: right;\n",
       "    }\n",
       "</style>\n",
       "<table border=\"1\" class=\"dataframe\">\n",
       "  <thead>\n",
       "    <tr style=\"text-align: right;\">\n",
       "      <th></th>\n",
       "      <th>CRIM</th>\n",
       "      <th>ZN</th>\n",
       "      <th>INDUS</th>\n",
       "      <th>CHAS</th>\n",
       "      <th>NOX</th>\n",
       "      <th>RM</th>\n",
       "      <th>AGE</th>\n",
       "      <th>DIS</th>\n",
       "      <th>RAD</th>\n",
       "      <th>TAX</th>\n",
       "      <th>PTRATIO</th>\n",
       "      <th>B</th>\n",
       "      <th>LSTAT</th>\n",
       "      <th>target</th>\n",
       "    </tr>\n",
       "  </thead>\n",
       "  <tbody>\n",
       "    <tr>\n",
       "      <th>0</th>\n",
       "      <td>0.00632</td>\n",
       "      <td>18.0</td>\n",
       "      <td>2.31</td>\n",
       "      <td>0.0</td>\n",
       "      <td>0.538</td>\n",
       "      <td>6.575</td>\n",
       "      <td>65.2</td>\n",
       "      <td>4.0900</td>\n",
       "      <td>1.0</td>\n",
       "      <td>296.0</td>\n",
       "      <td>15.3</td>\n",
       "      <td>396.90</td>\n",
       "      <td>4.98</td>\n",
       "      <td>24.0</td>\n",
       "    </tr>\n",
       "    <tr>\n",
       "      <th>1</th>\n",
       "      <td>0.02731</td>\n",
       "      <td>0.0</td>\n",
       "      <td>7.07</td>\n",
       "      <td>0.0</td>\n",
       "      <td>0.469</td>\n",
       "      <td>6.421</td>\n",
       "      <td>78.9</td>\n",
       "      <td>4.9671</td>\n",
       "      <td>2.0</td>\n",
       "      <td>242.0</td>\n",
       "      <td>17.8</td>\n",
       "      <td>396.90</td>\n",
       "      <td>9.14</td>\n",
       "      <td>21.6</td>\n",
       "    </tr>\n",
       "    <tr>\n",
       "      <th>2</th>\n",
       "      <td>0.02729</td>\n",
       "      <td>0.0</td>\n",
       "      <td>7.07</td>\n",
       "      <td>0.0</td>\n",
       "      <td>0.469</td>\n",
       "      <td>7.185</td>\n",
       "      <td>61.1</td>\n",
       "      <td>4.9671</td>\n",
       "      <td>2.0</td>\n",
       "      <td>242.0</td>\n",
       "      <td>17.8</td>\n",
       "      <td>392.83</td>\n",
       "      <td>4.03</td>\n",
       "      <td>34.7</td>\n",
       "    </tr>\n",
       "    <tr>\n",
       "      <th>3</th>\n",
       "      <td>0.03237</td>\n",
       "      <td>0.0</td>\n",
       "      <td>2.18</td>\n",
       "      <td>0.0</td>\n",
       "      <td>0.458</td>\n",
       "      <td>6.998</td>\n",
       "      <td>45.8</td>\n",
       "      <td>6.0622</td>\n",
       "      <td>3.0</td>\n",
       "      <td>222.0</td>\n",
       "      <td>18.7</td>\n",
       "      <td>394.63</td>\n",
       "      <td>2.94</td>\n",
       "      <td>33.4</td>\n",
       "    </tr>\n",
       "    <tr>\n",
       "      <th>4</th>\n",
       "      <td>0.06905</td>\n",
       "      <td>0.0</td>\n",
       "      <td>2.18</td>\n",
       "      <td>0.0</td>\n",
       "      <td>0.458</td>\n",
       "      <td>7.147</td>\n",
       "      <td>54.2</td>\n",
       "      <td>6.0622</td>\n",
       "      <td>3.0</td>\n",
       "      <td>222.0</td>\n",
       "      <td>18.7</td>\n",
       "      <td>396.90</td>\n",
       "      <td>5.33</td>\n",
       "      <td>36.2</td>\n",
       "    </tr>\n",
       "  </tbody>\n",
       "</table>\n",
       "</div>"
      ],
      "text/plain": [
       "      CRIM    ZN  INDUS  CHAS    NOX     RM   AGE     DIS  RAD    TAX  \\\n",
       "0  0.00632  18.0   2.31   0.0  0.538  6.575  65.2  4.0900  1.0  296.0   \n",
       "1  0.02731   0.0   7.07   0.0  0.469  6.421  78.9  4.9671  2.0  242.0   \n",
       "2  0.02729   0.0   7.07   0.0  0.469  7.185  61.1  4.9671  2.0  242.0   \n",
       "3  0.03237   0.0   2.18   0.0  0.458  6.998  45.8  6.0622  3.0  222.0   \n",
       "4  0.06905   0.0   2.18   0.0  0.458  7.147  54.2  6.0622  3.0  222.0   \n",
       "\n",
       "   PTRATIO       B  LSTAT  target  \n",
       "0     15.3  396.90   4.98    24.0  \n",
       "1     17.8  396.90   9.14    21.6  \n",
       "2     17.8  392.83   4.03    34.7  \n",
       "3     18.7  394.63   2.94    33.4  \n",
       "4     18.7  396.90   5.33    36.2  "
      ]
     },
     "execution_count": 4,
     "metadata": {},
     "output_type": "execute_result"
    }
   ],
   "source": [
    "# Is our data loaded correctly and in the correct format?\n",
    "df.head()"
   ]
  },
  {
   "cell_type": "code",
   "execution_count": 5,
   "id": "7d9a0119",
   "metadata": {},
   "outputs": [
    {
     "name": "stdout",
     "output_type": "stream",
     "text": [
      "In unserem Datensatz befinden sich 506 Häuser.\n"
     ]
    }
   ],
   "source": [
    "# How many entries are in our dataset?\n",
    "print(f\"In unserem Datensatz befinden sich {len(df)} Häuser.\")"
   ]
  },
  {
   "cell_type": "code",
   "execution_count": 6,
   "id": "2b60ee4b",
   "metadata": {},
   "outputs": [
    {
     "name": "stdout",
     "output_type": "stream",
     "text": [
      "['CRIM', 'ZN', 'INDUS', 'CHAS', 'NOX', 'RM', 'AGE', 'DIS', 'RAD', 'TAX', 'PTRATIO', 'B', 'LSTAT', 'target']\n"
     ]
    }
   ],
   "source": [
    "# What's the name of our columns?\n",
    "print(list(df.columns))"
   ]
  },
  {
   "cell_type": "code",
   "execution_count": 7,
   "id": "2d47153c",
   "metadata": {},
   "outputs": [
    {
     "data": {
      "text/html": [
       "<div>\n",
       "<style scoped>\n",
       "    .dataframe tbody tr th:only-of-type {\n",
       "        vertical-align: middle;\n",
       "    }\n",
       "\n",
       "    .dataframe tbody tr th {\n",
       "        vertical-align: top;\n",
       "    }\n",
       "\n",
       "    .dataframe thead th {\n",
       "        text-align: right;\n",
       "    }\n",
       "</style>\n",
       "<table border=\"1\" class=\"dataframe\">\n",
       "  <thead>\n",
       "    <tr style=\"text-align: right;\">\n",
       "      <th></th>\n",
       "      <th>crime_rate</th>\n",
       "      <th>big_lots</th>\n",
       "      <th>industry_rate</th>\n",
       "      <th>river_access</th>\n",
       "      <th>nitric_oxid</th>\n",
       "      <th>no_rooms</th>\n",
       "      <th>employ_dist</th>\n",
       "      <th>highway_access</th>\n",
       "      <th>before_1940</th>\n",
       "      <th>tax_rate</th>\n",
       "      <th>pupils_teachers</th>\n",
       "      <th>proportion_black</th>\n",
       "      <th>lower_status</th>\n",
       "      <th>house_price</th>\n",
       "    </tr>\n",
       "  </thead>\n",
       "  <tbody>\n",
       "    <tr>\n",
       "      <th>0</th>\n",
       "      <td>0.00632</td>\n",
       "      <td>18.0</td>\n",
       "      <td>2.31</td>\n",
       "      <td>0.0</td>\n",
       "      <td>0.538</td>\n",
       "      <td>6.575</td>\n",
       "      <td>65.2</td>\n",
       "      <td>4.0900</td>\n",
       "      <td>1.0</td>\n",
       "      <td>296.0</td>\n",
       "      <td>15.3</td>\n",
       "      <td>396.90</td>\n",
       "      <td>4.98</td>\n",
       "      <td>24.0</td>\n",
       "    </tr>\n",
       "    <tr>\n",
       "      <th>1</th>\n",
       "      <td>0.02731</td>\n",
       "      <td>0.0</td>\n",
       "      <td>7.07</td>\n",
       "      <td>0.0</td>\n",
       "      <td>0.469</td>\n",
       "      <td>6.421</td>\n",
       "      <td>78.9</td>\n",
       "      <td>4.9671</td>\n",
       "      <td>2.0</td>\n",
       "      <td>242.0</td>\n",
       "      <td>17.8</td>\n",
       "      <td>396.90</td>\n",
       "      <td>9.14</td>\n",
       "      <td>21.6</td>\n",
       "    </tr>\n",
       "    <tr>\n",
       "      <th>2</th>\n",
       "      <td>0.02729</td>\n",
       "      <td>0.0</td>\n",
       "      <td>7.07</td>\n",
       "      <td>0.0</td>\n",
       "      <td>0.469</td>\n",
       "      <td>7.185</td>\n",
       "      <td>61.1</td>\n",
       "      <td>4.9671</td>\n",
       "      <td>2.0</td>\n",
       "      <td>242.0</td>\n",
       "      <td>17.8</td>\n",
       "      <td>392.83</td>\n",
       "      <td>4.03</td>\n",
       "      <td>34.7</td>\n",
       "    </tr>\n",
       "    <tr>\n",
       "      <th>3</th>\n",
       "      <td>0.03237</td>\n",
       "      <td>0.0</td>\n",
       "      <td>2.18</td>\n",
       "      <td>0.0</td>\n",
       "      <td>0.458</td>\n",
       "      <td>6.998</td>\n",
       "      <td>45.8</td>\n",
       "      <td>6.0622</td>\n",
       "      <td>3.0</td>\n",
       "      <td>222.0</td>\n",
       "      <td>18.7</td>\n",
       "      <td>394.63</td>\n",
       "      <td>2.94</td>\n",
       "      <td>33.4</td>\n",
       "    </tr>\n",
       "    <tr>\n",
       "      <th>4</th>\n",
       "      <td>0.06905</td>\n",
       "      <td>0.0</td>\n",
       "      <td>2.18</td>\n",
       "      <td>0.0</td>\n",
       "      <td>0.458</td>\n",
       "      <td>7.147</td>\n",
       "      <td>54.2</td>\n",
       "      <td>6.0622</td>\n",
       "      <td>3.0</td>\n",
       "      <td>222.0</td>\n",
       "      <td>18.7</td>\n",
       "      <td>396.90</td>\n",
       "      <td>5.33</td>\n",
       "      <td>36.2</td>\n",
       "    </tr>\n",
       "  </tbody>\n",
       "</table>\n",
       "</div>"
      ],
      "text/plain": [
       "   crime_rate  big_lots  industry_rate  river_access  nitric_oxid  no_rooms  \\\n",
       "0     0.00632      18.0           2.31           0.0        0.538     6.575   \n",
       "1     0.02731       0.0           7.07           0.0        0.469     6.421   \n",
       "2     0.02729       0.0           7.07           0.0        0.469     7.185   \n",
       "3     0.03237       0.0           2.18           0.0        0.458     6.998   \n",
       "4     0.06905       0.0           2.18           0.0        0.458     7.147   \n",
       "\n",
       "   employ_dist  highway_access  before_1940  tax_rate  pupils_teachers  \\\n",
       "0         65.2          4.0900          1.0     296.0             15.3   \n",
       "1         78.9          4.9671          2.0     242.0             17.8   \n",
       "2         61.1          4.9671          2.0     242.0             17.8   \n",
       "3         45.8          6.0622          3.0     222.0             18.7   \n",
       "4         54.2          6.0622          3.0     222.0             18.7   \n",
       "\n",
       "   proportion_black  lower_status  house_price  \n",
       "0            396.90          4.98         24.0  \n",
       "1            396.90          9.14         21.6  \n",
       "2            392.83          4.03         34.7  \n",
       "3            394.63          2.94         33.4  \n",
       "4            396.90          5.33         36.2  "
      ]
     },
     "execution_count": 7,
     "metadata": {},
     "output_type": "execute_result"
    }
   ],
   "source": [
    "# We can change the names of the columns for better recognizability.\n",
    "df = df.rename(columns=dict([(old, new) for old, new in zip(\n",
    "               df.columns, ['crime_rate', 'big_lots', 'industry_rate', 'river_access',\n",
    "                            'nitric_oxid', 'no_rooms', 'employ_dist', 'highway_access', 'before_1940',\n",
    "                            'tax_rate', 'pupils_teachers', 'proportion_black', 'lower_status', 'house_price'])]))\n",
    "df.head()"
   ]
  },
  {
   "cell_type": "code",
   "execution_count": 8,
   "id": "ac1dd507",
   "metadata": {},
   "outputs": [
    {
     "data": {
      "text/plain": [
       "crime_rate          0\n",
       "big_lots            0\n",
       "industry_rate       0\n",
       "river_access        0\n",
       "nitric_oxid         0\n",
       "no_rooms            0\n",
       "employ_dist         0\n",
       "highway_access      0\n",
       "before_1940         0\n",
       "tax_rate            0\n",
       "pupils_teachers     0\n",
       "proportion_black    0\n",
       "lower_status        0\n",
       "house_price         0\n",
       "dtype: int64"
      ]
     },
     "execution_count": 8,
     "metadata": {},
     "output_type": "execute_result"
    }
   ],
   "source": [
    "# Let's reinsure us that there are no missing values (as stated in the description).\n",
    "df.isnull().sum()"
   ]
  },
  {
   "cell_type": "code",
   "execution_count": 9,
   "id": "01b24e25",
   "metadata": {},
   "outputs": [
    {
     "data": {
      "text/plain": [
       "crime_rate          float64\n",
       "big_lots            float64\n",
       "industry_rate       float64\n",
       "river_access        float64\n",
       "nitric_oxid         float64\n",
       "no_rooms            float64\n",
       "employ_dist         float64\n",
       "highway_access      float64\n",
       "before_1940         float64\n",
       "tax_rate            float64\n",
       "pupils_teachers     float64\n",
       "proportion_black    float64\n",
       "lower_status        float64\n",
       "house_price         float64\n",
       "dtype: object"
      ]
     },
     "execution_count": 9,
     "metadata": {},
     "output_type": "execute_result"
    }
   ],
   "source": [
    "# Which datatypes do our features have?\n",
    "df.dtypes"
   ]
  },
  {
   "cell_type": "code",
   "execution_count": 10,
   "id": "349e69dc",
   "metadata": {},
   "outputs": [
    {
     "data": {
      "image/png": "[encoded data removed]",
      "text/plain": [
       "<Figure size 648x432 with 1 Axes>"
      ]
     },
     "metadata": {
      "needs_background": "light"
     },
     "output_type": "display_data"
    }
   ],
   "source": [
    "# How is our target variable distributed?\n",
    "import matplotlib.pyplot as plt\n",
    "\n",
    "plt.figure(figsize=(9,6))\n",
    "plt.hist(df.house_price, rwidth=0.9, color=\"lightblue\", bins=list(range(0, 51, 5)))\n",
    "plt.title(\"Price range of houses in Boston's suburbs\")\n",
    "plt.xlabel(\"house price in $1000\")\n",
    "plt.ylabel(\"frequency\")\n",
    "plt.show()"
   ]
  },
  {
   "cell_type": "code",
   "execution_count": 11,
   "id": "0d43cd9c",
   "metadata": {},
   "outputs": [
    {
     "data": {
      "text/html": [
       "<div>\n",
       "<style scoped>\n",
       "    .dataframe tbody tr th:only-of-type {\n",
       "        vertical-align: middle;\n",
       "    }\n",
       "\n",
       "    .dataframe tbody tr th {\n",
       "        vertical-align: top;\n",
       "    }\n",
       "\n",
       "    .dataframe thead th {\n",
       "        text-align: right;\n",
       "    }\n",
       "</style>\n",
       "<table border=\"1\" class=\"dataframe\">\n",
       "  <thead>\n",
       "    <tr style=\"text-align: right;\">\n",
       "      <th></th>\n",
       "      <th>crime_rate</th>\n",
       "      <th>big_lots</th>\n",
       "      <th>industry_rate</th>\n",
       "      <th>river_access</th>\n",
       "      <th>nitric_oxid</th>\n",
       "      <th>no_rooms</th>\n",
       "      <th>employ_dist</th>\n",
       "      <th>highway_access</th>\n",
       "      <th>before_1940</th>\n",
       "      <th>tax_rate</th>\n",
       "      <th>pupils_teachers</th>\n",
       "      <th>proportion_black</th>\n",
       "      <th>lower_status</th>\n",
       "      <th>house_price</th>\n",
       "    </tr>\n",
       "  </thead>\n",
       "  <tbody>\n",
       "    <tr>\n",
       "      <th>count</th>\n",
       "      <td>506.00</td>\n",
       "      <td>506.00</td>\n",
       "      <td>506.00</td>\n",
       "      <td>506.00</td>\n",
       "      <td>506.00</td>\n",
       "      <td>506.00</td>\n",
       "      <td>506.00</td>\n",
       "      <td>506.00</td>\n",
       "      <td>506.00</td>\n",
       "      <td>506.00</td>\n",
       "      <td>506.00</td>\n",
       "      <td>506.00</td>\n",
       "      <td>506.00</td>\n",
       "      <td>506.00</td>\n",
       "    </tr>\n",
       "    <tr>\n",
       "      <th>mean</th>\n",
       "      <td>3.61</td>\n",
       "      <td>11.36</td>\n",
       "      <td>11.14</td>\n",
       "      <td>0.07</td>\n",
       "      <td>0.55</td>\n",
       "      <td>6.28</td>\n",
       "      <td>68.57</td>\n",
       "      <td>3.80</td>\n",
       "      <td>9.55</td>\n",
       "      <td>408.24</td>\n",
       "      <td>18.46</td>\n",
       "      <td>356.67</td>\n",
       "      <td>12.65</td>\n",
       "      <td>22.53</td>\n",
       "    </tr>\n",
       "    <tr>\n",
       "      <th>std</th>\n",
       "      <td>8.60</td>\n",
       "      <td>23.32</td>\n",
       "      <td>6.86</td>\n",
       "      <td>0.25</td>\n",
       "      <td>0.12</td>\n",
       "      <td>0.70</td>\n",
       "      <td>28.15</td>\n",
       "      <td>2.11</td>\n",
       "      <td>8.71</td>\n",
       "      <td>168.54</td>\n",
       "      <td>2.16</td>\n",
       "      <td>91.29</td>\n",
       "      <td>7.14</td>\n",
       "      <td>9.20</td>\n",
       "    </tr>\n",
       "    <tr>\n",
       "      <th>min</th>\n",
       "      <td>0.01</td>\n",
       "      <td>0.00</td>\n",
       "      <td>0.46</td>\n",
       "      <td>0.00</td>\n",
       "      <td>0.39</td>\n",
       "      <td>3.56</td>\n",
       "      <td>2.90</td>\n",
       "      <td>1.13</td>\n",
       "      <td>1.00</td>\n",
       "      <td>187.00</td>\n",
       "      <td>12.60</td>\n",
       "      <td>0.32</td>\n",
       "      <td>1.73</td>\n",
       "      <td>5.00</td>\n",
       "    </tr>\n",
       "    <tr>\n",
       "      <th>25%</th>\n",
       "      <td>0.08</td>\n",
       "      <td>0.00</td>\n",
       "      <td>5.19</td>\n",
       "      <td>0.00</td>\n",
       "      <td>0.45</td>\n",
       "      <td>5.89</td>\n",
       "      <td>45.02</td>\n",
       "      <td>2.10</td>\n",
       "      <td>4.00</td>\n",
       "      <td>279.00</td>\n",
       "      <td>17.40</td>\n",
       "      <td>375.38</td>\n",
       "      <td>6.95</td>\n",
       "      <td>17.02</td>\n",
       "    </tr>\n",
       "    <tr>\n",
       "      <th>50%</th>\n",
       "      <td>0.26</td>\n",
       "      <td>0.00</td>\n",
       "      <td>9.69</td>\n",
       "      <td>0.00</td>\n",
       "      <td>0.54</td>\n",
       "      <td>6.21</td>\n",
       "      <td>77.50</td>\n",
       "      <td>3.21</td>\n",
       "      <td>5.00</td>\n",
       "      <td>330.00</td>\n",
       "      <td>19.05</td>\n",
       "      <td>391.44</td>\n",
       "      <td>11.36</td>\n",
       "      <td>21.20</td>\n",
       "    </tr>\n",
       "    <tr>\n",
       "      <th>75%</th>\n",
       "      <td>3.68</td>\n",
       "      <td>12.50</td>\n",
       "      <td>18.10</td>\n",
       "      <td>0.00</td>\n",
       "      <td>0.62</td>\n",
       "      <td>6.62</td>\n",
       "      <td>94.07</td>\n",
       "      <td>5.19</td>\n",
       "      <td>24.00</td>\n",
       "      <td>666.00</td>\n",
       "      <td>20.20</td>\n",
       "      <td>396.23</td>\n",
       "      <td>16.96</td>\n",
       "      <td>25.00</td>\n",
       "    </tr>\n",
       "    <tr>\n",
       "      <th>max</th>\n",
       "      <td>88.98</td>\n",
       "      <td>100.00</td>\n",
       "      <td>27.74</td>\n",
       "      <td>1.00</td>\n",
       "      <td>0.87</td>\n",
       "      <td>8.78</td>\n",
       "      <td>100.00</td>\n",
       "      <td>12.13</td>\n",
       "      <td>24.00</td>\n",
       "      <td>711.00</td>\n",
       "      <td>22.00</td>\n",
       "      <td>396.90</td>\n",
       "      <td>37.97</td>\n",
       "      <td>50.00</td>\n",
       "    </tr>\n",
       "  </tbody>\n",
       "</table>\n",
       "</div>"
      ],
      "text/plain": [
       "       crime_rate  big_lots  industry_rate  river_access  nitric_oxid  \\\n",
       "count      506.00    506.00         506.00        506.00       506.00   \n",
       "mean         3.61     11.36          11.14          0.07         0.55   \n",
       "std          8.60     23.32           6.86          0.25         0.12   \n",
       "min          0.01      0.00           0.46          0.00         0.39   \n",
       "25%          0.08      0.00           5.19          0.00         0.45   \n",
       "50%          0.26      0.00           9.69          0.00         0.54   \n",
       "75%          3.68     12.50          18.10          0.00         0.62   \n",
       "max         88.98    100.00          27.74          1.00         0.87   \n",
       "\n",
       "       no_rooms  employ_dist  highway_access  before_1940  tax_rate  \\\n",
       "count    506.00       506.00          506.00       506.00    506.00   \n",
       "mean       6.28        68.57            3.80         9.55    408.24   \n",
       "std        0.70        28.15            2.11         8.71    168.54   \n",
       "min        3.56         2.90            1.13         1.00    187.00   \n",
       "25%        5.89        45.02            2.10         4.00    279.00   \n",
       "50%        6.21        77.50            3.21         5.00    330.00   \n",
       "75%        6.62        94.07            5.19        24.00    666.00   \n",
       "max        8.78       100.00           12.13        24.00    711.00   \n",
       "\n",
       "       pupils_teachers  proportion_black  lower_status  house_price  \n",
       "count           506.00            506.00        506.00       506.00  \n",
       "mean             18.46            356.67         12.65        22.53  \n",
       "std               2.16             91.29          7.14         9.20  \n",
       "min              12.60              0.32          1.73         5.00  \n",
       "25%              17.40            375.38          6.95        17.02  \n",
       "50%              19.05            391.44         11.36        21.20  \n",
       "75%              20.20            396.23         16.96        25.00  \n",
       "max              22.00            396.90         37.97        50.00  "
      ]
     },
     "execution_count": 11,
     "metadata": {},
     "output_type": "execute_result"
    }
   ],
   "source": [
    "# Let's look at the descriptives of our variables.\n",
    "pd.options.display.float_format = '{:.2f}'.format\n",
    "df.describe()"
   ]
  },
  {
   "cell_type": "code",
   "execution_count": 12,
   "id": "a91770b4",
   "metadata": {},
   "outputs": [
    {
     "name": "stdout",
     "output_type": "stream",
     "text": [
      "\n",
      ": boolean\n",
      "    use_inf_as_null had been deprecated and will be removed in a future\n",
      "    version. Use `use_inf_as_na` instead.\n",
      "\n"
     ]
    }
   ],
   "source": [
    "pd.reset_option(\"all\")"
   ]
  },
  {
   "cell_type": "code",
   "execution_count": 13,
   "id": "dde6a5f4",
   "metadata": {},
   "outputs": [
    {
     "data": {
      "image/png": "[encoded data removed]",
      "text/plain": [
       "<Figure size 864x576 with 2 Axes>"
      ]
     },
     "metadata": {
      "needs_background": "light"
     },
     "output_type": "display_data"
    }
   ],
   "source": [
    "# Do our features correlate? Let's create a heatmap.\n",
    "\n",
    "import seaborn as sns\n",
    "\n",
    "plt.figure(figsize=(12, 8))\n",
    "\n",
    "corr_table = np.corrcoef(df.values.T)\n",
    "\n",
    "corr_heatmap = sns.heatmap(corr_table, cbar=True, annot=True, fmt='.2f',\n",
    "                           annot_kws={'size': 10}, yticklabels=df.columns, xticklabels=df.columns)\n",
    "\n",
    "# only display correlation values of medium size and higher\n",
    "for t in corr_heatmap.texts:\n",
    "    if float(t.get_text()) >= 0.5 or float(t.get_text()) <= -0.5:\n",
    "        t.set_text(t.get_text())\n",
    "    else:\n",
    "        t.set_text(\"\")"
   ]
  },
  {
   "cell_type": "markdown",
   "id": "1359230e",
   "metadata": {},
   "source": [
    "Beobachtungen:\n",
    "- Wichtige features, die hoch mit dem Preis eines Hauses korrelieren, sind: die Anzahl der Räume, das SchülerInnen-LehrerInnen Verhältnis der Gegend, und der soziale Status der EinwohnerInnen.\n",
    "- Geringer sozialer Status korreliert hoch mit folgenden Variablen: der Menge der ansässigen Industrie, der Nitritoxid-Konzentration, der Anzahl der Zimmer, der Distanz zum nächsten Industriezentrum, der Distanz zum nächsten Highway, und dem Steuersatz. Wir können alle diese Variablen (bis auf die Anzahl der Zimmer) ausschließen, da die Information, die diese Variablen bereitstellen, bereits zur großen Teilen im sozialen Status zu stecken scheinen.\n",
    "- Aufgrund unseres Fachwissens können wir außerdem vermuten, dass die Anzahl der Grundstücke über 25.000 square feet eine geringere Rolle spielen als die anderen features. Wir elimieren dieses daher ebenso."
   ]
  },
  {
   "cell_type": "code",
   "execution_count": 14,
   "id": "edc3f1ab",
   "metadata": {},
   "outputs": [
    {
     "data": {
      "text/html": [
       "<div>\n",
       "<style scoped>\n",
       "    .dataframe tbody tr th:only-of-type {\n",
       "        vertical-align: middle;\n",
       "    }\n",
       "\n",
       "    .dataframe tbody tr th {\n",
       "        vertical-align: top;\n",
       "    }\n",
       "\n",
       "    .dataframe thead th {\n",
       "        text-align: right;\n",
       "    }\n",
       "</style>\n",
       "<table border=\"1\" class=\"dataframe\">\n",
       "  <thead>\n",
       "    <tr style=\"text-align: right;\">\n",
       "      <th></th>\n",
       "      <th>crime_rate</th>\n",
       "      <th>river_access</th>\n",
       "      <th>no_rooms</th>\n",
       "      <th>before_1940</th>\n",
       "      <th>pupils_teachers</th>\n",
       "      <th>proportion_black</th>\n",
       "      <th>lower_status</th>\n",
       "      <th>house_price</th>\n",
       "    </tr>\n",
       "  </thead>\n",
       "  <tbody>\n",
       "    <tr>\n",
       "      <th>0</th>\n",
       "      <td>0.00632</td>\n",
       "      <td>0.0</td>\n",
       "      <td>6.575</td>\n",
       "      <td>1.0</td>\n",
       "      <td>15.3</td>\n",
       "      <td>396.90</td>\n",
       "      <td>4.98</td>\n",
       "      <td>24.0</td>\n",
       "    </tr>\n",
       "    <tr>\n",
       "      <th>1</th>\n",
       "      <td>0.02731</td>\n",
       "      <td>0.0</td>\n",
       "      <td>6.421</td>\n",
       "      <td>2.0</td>\n",
       "      <td>17.8</td>\n",
       "      <td>396.90</td>\n",
       "      <td>9.14</td>\n",
       "      <td>21.6</td>\n",
       "    </tr>\n",
       "    <tr>\n",
       "      <th>2</th>\n",
       "      <td>0.02729</td>\n",
       "      <td>0.0</td>\n",
       "      <td>7.185</td>\n",
       "      <td>2.0</td>\n",
       "      <td>17.8</td>\n",
       "      <td>392.83</td>\n",
       "      <td>4.03</td>\n",
       "      <td>34.7</td>\n",
       "    </tr>\n",
       "    <tr>\n",
       "      <th>3</th>\n",
       "      <td>0.03237</td>\n",
       "      <td>0.0</td>\n",
       "      <td>6.998</td>\n",
       "      <td>3.0</td>\n",
       "      <td>18.7</td>\n",
       "      <td>394.63</td>\n",
       "      <td>2.94</td>\n",
       "      <td>33.4</td>\n",
       "    </tr>\n",
       "    <tr>\n",
       "      <th>4</th>\n",
       "      <td>0.06905</td>\n",
       "      <td>0.0</td>\n",
       "      <td>7.147</td>\n",
       "      <td>3.0</td>\n",
       "      <td>18.7</td>\n",
       "      <td>396.90</td>\n",
       "      <td>5.33</td>\n",
       "      <td>36.2</td>\n",
       "    </tr>\n",
       "  </tbody>\n",
       "</table>\n",
       "</div>"
      ],
      "text/plain": [
       "   crime_rate  river_access  no_rooms  before_1940  pupils_teachers  \\\n",
       "0     0.00632           0.0     6.575          1.0             15.3   \n",
       "1     0.02731           0.0     6.421          2.0             17.8   \n",
       "2     0.02729           0.0     7.185          2.0             17.8   \n",
       "3     0.03237           0.0     6.998          3.0             18.7   \n",
       "4     0.06905           0.0     7.147          3.0             18.7   \n",
       "\n",
       "   proportion_black  lower_status  house_price  \n",
       "0            396.90          4.98         24.0  \n",
       "1            396.90          9.14         21.6  \n",
       "2            392.83          4.03         34.7  \n",
       "3            394.63          2.94         33.4  \n",
       "4            396.90          5.33         36.2  "
      ]
     },
     "execution_count": 14,
     "metadata": {},
     "output_type": "execute_result"
    }
   ],
   "source": [
    "# eliminate unimportant features\n",
    "df = df.drop(columns=['big_lots', 'industry_rate', 'nitric_oxid', 'employ_dist', 'highway_access', 'tax_rate'])\n",
    "df.head()"
   ]
  },
  {
   "cell_type": "code",
   "execution_count": 15,
   "id": "046a3c9b",
   "metadata": {},
   "outputs": [
    {
     "data": {
      "image/png": "[encoded data removed]",
      "text/plain": [
       "<Figure size 1152x576 with 8 Axes>"
      ]
     },
     "metadata": {
      "needs_background": "light"
     },
     "output_type": "display_data"
    }
   ],
   "source": [
    "# Let's look at the relationship between our chosen features and the target variable.\n",
    "fig, axs = plt.subplots(2, 4, figsize=(16, 8))\n",
    "variable = list(df.columns)\n",
    "col = 0\n",
    "for i in range(2):\n",
    "    for j in range(4):\n",
    "        axs[i][j].scatter(df[variable[col]], df.house_price, s=20,\n",
    "                          c='purple', edgecolors='white', linewidths=0.5)\n",
    "        axs[i][j].set_xlabel(variable[col])\n",
    "        col += 1\n",
    "axs[0][0].set_ylabel('house_price')\n",
    "axs[1][0].set_ylabel('house_price')\n",
    "fig.suptitle('Scatterplots between features and target')\n",
    "fig.show()"
   ]
  },
  {
   "cell_type": "markdown",
   "id": "589cfa8e",
   "metadata": {},
   "source": [
    "## DATA-PREPRATION: PERFORM TRAIN-TEST-SPLIT"
   ]
  },
  {
   "cell_type": "code",
   "execution_count": 16,
   "id": "a5446772",
   "metadata": {},
   "outputs": [],
   "source": [
    "from sklearn.model_selection import train_test_split\n",
    "\n",
    "# shuffle the data and split into train (60%), validation (20%), and test set (20%)\n",
    "X_train, X_test, y_train, y_test = train_test_split(df.drop(columns=['house_price']), df.house_price,\n",
    "                                                    test_size=0.2, random_state = 42)\n",
    "\n",
    "X_train, X_val, y_train, y_val = train_test_split(X_train, y_train, test_size=0.25, random_state = 42)"
   ]
  },
  {
   "cell_type": "code",
   "execution_count": 17,
   "id": "b1c4be6e",
   "metadata": {},
   "outputs": [
    {
     "name": "stdout",
     "output_type": "stream",
     "text": [
      "Training data has size: (303, 7) (X) and (303,) (y).\n",
      "Validation data has size: (101, 7) (X) and (101,) (y).\n",
      "Test data has size: (102, 7) (X) and (102,) (y).\n"
     ]
    }
   ],
   "source": [
    "# reinsure that train-val-test split was successful\n",
    "print(f\"Training data has size: {X_train.shape} (X) and {y_train.shape} (y).\")\n",
    "print(f\"Validation data has size: {X_val.shape} (X) and {y_val.shape} (y).\")\n",
    "print(f\"Test data has size: {X_test.shape} (X) and {y_test.shape} (y).\")"
   ]
  },
  {
   "cell_type": "markdown",
   "id": "29068a4f",
   "metadata": {},
   "source": [
    "## 3 + 4 // MODEL SELECTION & EVALUATION"
   ]
  },
  {
   "cell_type": "markdown",
   "id": "a069e16d",
   "metadata": {},
   "source": [
    "## EIN EVALUATIONSKRITERIUM DEFINIEREN"
   ]
  },
  {
   "cell_type": "code",
   "execution_count": 18,
   "id": "8961346f",
   "metadata": {},
   "outputs": [],
   "source": [
    "# Root Mean Square Error (RMSE)\n",
    "# the average deviation of true and predicted values\n",
    "# standard evaluation metric for regression problems\n",
    "import math\n",
    "\n",
    "def rmse(x, y):\n",
    "    return math.sqrt(((x-y)**2).mean())\n",
    "\n",
    "def get_rmse(m, X_train, y_train, X_val, y_val):\n",
    "    res_train = rmse(m.predict(X_train), y_train)\n",
    "    res_val = rmse(m.predict(X_val), y_val)\n",
    "    return res_train, res_val"
   ]
  },
  {
   "cell_type": "markdown",
   "id": "28fbb408",
   "metadata": {},
   "source": [
    "## EIN BASELINE MODEL BAUEN"
   ]
  },
  {
   "cell_type": "markdown",
   "id": "3724cec9",
   "metadata": {},
   "source": [
    "Wir entscheiden uns für einen **Random Forest für Regressionsprobleme**. Ein Random Forest bildet durch Bootstrapping mehrere Decision Trees aus unseren Trainingsdaten, deren Vorhersagen dann zum Schluss aggregiert werden. Der Algorithmus ist somit robuster als ein einzelner Decision Tree. Ein Random Forest hat außerdem folgende Vorteile:\n",
    "- Er kann mit allen Datentypen umgehen (binär, kategorisch, metrisch). Die Datenvirbereitung ist also mit wenig Aufwand verbunden.\n",
    "- Der Algorithmus sagt uns welche features für die Vorhersage besonders wichtig sind, ist also auch interpretierbar.\n",
    "- Der andom Forest ist robust gegenüber Ausreißern."
   ]
  },
  {
   "cell_type": "code",
   "execution_count": 19,
   "id": "860722dd",
   "metadata": {},
   "outputs": [
    {
     "name": "stdout",
     "output_type": "stream",
     "text": [
      "Results averaged over 10 iterations:\n",
      "Train RMSE: 1.5915, Val RMSE: 4.2116\n",
      "Train R2: 0.9718, Val R2: 0.7741\n"
     ]
    }
   ],
   "source": [
    "from sklearn.ensemble import RandomForestRegressor\n",
    "\n",
    "rmse_train = []\n",
    "rmse_val = []\n",
    "r2_train = []\n",
    "r2_val = []\n",
    "\n",
    "for i in range(10):\n",
    "    model = RandomForestRegressor(random_state=2)  # without selecting hyperparameters\n",
    "    model.fit(X_train, y_train)\n",
    "\n",
    "    rmse_t, rmse_v = get_rmse(model, X_train, y_train, X_val, y_val)\n",
    "    rmse_train.append(rmse_t)\n",
    "    rmse_val.append(rmse_v)\n",
    "    r2_train.append(model.score(X_train, y_train))\n",
    "    r2_val.append(model.score(X_val, y_val))\n",
    "\n",
    "print('Results averaged over 10 iterations:')\n",
    "print(f'Train RMSE: {np.mean(rmse_train):.4f}, Val RMSE: {np.mean(rmse_val):.4f}')\n",
    "print(f'Train R2: {np.mean(r2_train):.4f}, Val R2: {np.mean(r2_val):.4f}')"
   ]
  },
  {
   "cell_type": "markdown",
   "id": "6baf6a9d",
   "metadata": {},
   "source": [
    "## FEATURE ENGINEERING"
   ]
  },
  {
   "cell_type": "markdown",
   "id": "434251de",
   "metadata": {},
   "source": [
    "Die **feature importance** besagt, um wie viel ein einzelnes feature das Evaluationskriterium senkt oder erhöht, ist also ein Maß für die Wichtigkeit der feature. Je höher, desto wichtiger."
   ]
  },
  {
   "cell_type": "code",
   "execution_count": 20,
   "id": "5896eefe",
   "metadata": {},
   "outputs": [
    {
     "data": {
      "text/html": [
       "<div>\n",
       "<style scoped>\n",
       "    .dataframe tbody tr th:only-of-type {\n",
       "        vertical-align: middle;\n",
       "    }\n",
       "\n",
       "    .dataframe tbody tr th {\n",
       "        vertical-align: top;\n",
       "    }\n",
       "\n",
       "    .dataframe thead th {\n",
       "        text-align: right;\n",
       "    }\n",
       "</style>\n",
       "<table border=\"1\" class=\"dataframe\">\n",
       "  <thead>\n",
       "    <tr style=\"text-align: right;\">\n",
       "      <th></th>\n",
       "      <th>Features</th>\n",
       "      <th>Importance</th>\n",
       "    </tr>\n",
       "  </thead>\n",
       "  <tbody>\n",
       "    <tr>\n",
       "      <th>0</th>\n",
       "      <td>river_access</td>\n",
       "      <td>0.008704</td>\n",
       "    </tr>\n",
       "    <tr>\n",
       "      <th>1</th>\n",
       "      <td>before_1940</td>\n",
       "      <td>0.013235</td>\n",
       "    </tr>\n",
       "    <tr>\n",
       "      <th>2</th>\n",
       "      <td>pupils_teachers</td>\n",
       "      <td>0.019888</td>\n",
       "    </tr>\n",
       "    <tr>\n",
       "      <th>3</th>\n",
       "      <td>proportion_black</td>\n",
       "      <td>0.022680</td>\n",
       "    </tr>\n",
       "    <tr>\n",
       "      <th>4</th>\n",
       "      <td>crime_rate</td>\n",
       "      <td>0.067285</td>\n",
       "    </tr>\n",
       "    <tr>\n",
       "      <th>5</th>\n",
       "      <td>lower_status</td>\n",
       "      <td>0.255186</td>\n",
       "    </tr>\n",
       "    <tr>\n",
       "      <th>6</th>\n",
       "      <td>no_rooms</td>\n",
       "      <td>0.613023</td>\n",
       "    </tr>\n",
       "  </tbody>\n",
       "</table>\n",
       "</div>"
      ],
      "text/plain": [
       "           Features  Importance\n",
       "0      river_access    0.008704\n",
       "1       before_1940    0.013235\n",
       "2   pupils_teachers    0.019888\n",
       "3  proportion_black    0.022680\n",
       "4        crime_rate    0.067285\n",
       "5      lower_status    0.255186\n",
       "6          no_rooms    0.613023"
      ]
     },
     "execution_count": 20,
     "metadata": {},
     "output_type": "execute_result"
    }
   ],
   "source": [
    "def feat_importance(m, df):\n",
    "    imp = pd.DataFrame()\n",
    "    imp['Features'] = df.columns\n",
    "    imp['Importance'] = m.feature_importances_\n",
    "    return imp.sort_values(by=['Importance']).reset_index().drop(columns=['index'])\n",
    "\n",
    "importance = feat_importance(model, X_train)\n",
    "importance"
   ]
  },
  {
   "cell_type": "markdown",
   "id": "0ab14b1d",
   "metadata": {},
   "source": [
    "Wir sehen, dass die Vorhersage vor allem von der Anzahl der Räume im Haus und dem sozialen Status der EinwohnerInnen der Gegend getrieben wird. Sind die anderen feature überhaupt entscheidend? Wir eliminieren jedes der feature vom Trainingsdatensatz (und behalten die übrigen) und sehen, wie sich unser Evalutionskriterium verändert."
   ]
  },
  {
   "cell_type": "code",
   "execution_count": 21,
   "id": "fc6196e1",
   "metadata": {},
   "outputs": [
    {
     "name": "stdout",
     "output_type": "stream",
     "text": [
      "Feature dropped: river_access\n",
      "Results averaged over 10 iterations:\n",
      "Train RMSE: 1.6107, Val R2: 4.1514\n",
      "Train R2: 0.9711, Val RMSE: 0.7805\n",
      "\n",
      "Feature dropped: before_1940\n",
      "Results averaged over 10 iterations:\n",
      "Train RMSE: 1.6184, Val R2: 4.2493\n",
      "Train R2: 0.9708, Val RMSE: 0.7700\n",
      "\n",
      "Feature dropped: pupils_teachers\n",
      "Results averaged over 10 iterations:\n",
      "Train RMSE: 1.6548, Val R2: 4.4922\n",
      "Train R2: 0.9695, Val RMSE: 0.7429\n",
      "\n",
      "Feature dropped: proportion_black\n",
      "Results averaged over 10 iterations:\n",
      "Train RMSE: 1.6212, Val R2: 4.5474\n",
      "Train R2: 0.9707, Val RMSE: 0.7366\n",
      "\n",
      "Feature dropped: crime_rate\n",
      "Results averaged over 10 iterations:\n",
      "Train RMSE: 1.7813, Val R2: 5.2670\n",
      "Train R2: 0.9646, Val RMSE: 0.6466\n",
      "\n",
      "Feature dropped: lower_status\n",
      "Results averaged over 10 iterations:\n",
      "Train RMSE: 3.0333, Val R2: 7.0109\n",
      "Train R2: 0.8974, Val RMSE: 0.3739\n",
      "\n",
      "No more features to eliminate.\n"
     ]
    }
   ],
   "source": [
    "# save training and evaluation data in a separate dataframe/variable\n",
    "X_train_new = X_train\n",
    "X_val_new = X_val\n",
    "\n",
    "for feat in importance['Features']:\n",
    "    try:\n",
    "        # drop one feature\n",
    "        X_train_new = X_train_new.drop(columns=[feat])\n",
    "        X_val_new = X_val_new.drop(columns=[feat])\n",
    "        \n",
    "        rmse_train = []\n",
    "        rmse_val = []\n",
    "        r2_train = []\n",
    "        r2_val = []\n",
    "        \n",
    "        # fit Random Forest ten times and calculate mean of evaluation metrics\n",
    "        for i in range(10):\n",
    "            model = RandomForestRegressor(random_state=2)  # without selecting hyperparameters\n",
    "            model.fit(X_train_new, y_train)\n",
    "\n",
    "            rmse_t, rmse_v = get_rmse(model, X_train_new, y_train, X_val_new, y_val)\n",
    "            rmse_train.append(rmse_t)\n",
    "            rmse_val.append(rmse_v)\n",
    "            r2_train.append(model.score(X_train_new, y_train))\n",
    "            r2_val.append(model.score(X_val_new, y_val))\n",
    "\n",
    "        print(f'Feature dropped: {feat}')\n",
    "        print('Results averaged over 10 iterations:')\n",
    "        print(f'Train RMSE: {np.mean(rmse_train):.4f}, Val R2: {np.mean(rmse_val):.4f}')\n",
    "        print(f'Train R2: {np.mean(r2_train):.4f}, Val RMSE: {np.mean(r2_val):.4f}')\n",
    "        print('')\n",
    "    \n",
    "    except ValueError:\n",
    "        print('No more features to eliminate.')"
   ]
  },
  {
   "cell_type": "markdown",
   "id": "620d062a",
   "metadata": {},
   "source": [
    "Wir sehen, dass die Vorhersage besser wird oder zumindest gleich bleibt, wenn wir die feature \"river_access\" und \"before_1940\" auslassen. Wir beschließen diese also nicht in unser finales Modell zu integrieren."
   ]
  },
  {
   "cell_type": "code",
   "execution_count": 22,
   "id": "88807320",
   "metadata": {},
   "outputs": [],
   "source": [
    "X_train_fin = X_train.drop(columns=['river_access', 'before_1940'])\n",
    "X_val_fin = X_val.drop(columns=['river_access', 'before_1940'])"
   ]
  },
  {
   "cell_type": "markdown",
   "id": "3fe42e2b",
   "metadata": {},
   "source": [
    "## 5 // FINE TUNING"
   ]
  },
  {
   "cell_type": "markdown",
   "id": "921d0e28",
   "metadata": {},
   "source": [
    "Nachdem wir unsere finale Auswahl an features getroffen haben, müssen wir noch die Hyperparamter unseres Random Forest Modells so wählen, dass wir die bestmögliche Vorhersage erhalten.\n",
    "\n",
    "Welche Hyperparameter lassen sich beim Random Forest Modell setzen?\n",
    "- **n_estimators**: Die Anzahl an Bäumen, die unser Random Forest Ensemble bildet. Default: 100. \n",
    "- **min_samples_leaf**: Die kleinste Anzahl an Datenpunkten, die nach der Teilung eines Knoten in beiden der Blätter jeweils enthalten sein müssen. Ansonsten wird der Split nicht durchgeführt. Dieser Parameter hilft dem Modell später besser zu generalisieren.\n",
    "- **max_features**: Die Anzahl an features, die bei jedem Teilungsschritt in Betracht gezogen werden.\n",
    "\n",
    "Es gibt noch mehrere Hyperparameter. Der Übersicht wegen und weil andere Parameter zum Teil überlappend sind, beschränken wir uns im Folgenen auf genannte drei.\n",
    "\n",
    "Die Hyperparameter suche kann nach der **Random Grid Search** Methode vorgenommen werden. Dabei werden für jeden Parameter eine Reihe von Werten gesetzt und alle Kombinationen von Parametern ausprobiert, um am Ende das beste Set aus allen Werten zu finden."
   ]
  },
  {
   "cell_type": "code",
   "execution_count": 23,
   "id": "ae564850",
   "metadata": {},
   "outputs": [
    {
     "name": "stdout",
     "output_type": "stream",
     "text": [
      "{'n_estimators': [100, 200, 300, 400, 500, 600, 700, 800, 900, 1000], 'max_features': [0.5, 'auto', 'sqrt', 'log2'], 'min_samples_leaf': [2, 4, 6, 8, 10, 12, 14, 16, 18, 20]}\n",
      "Fitting 3 folds for each of 400 candidates, totalling 1200 fits\n"
     ]
    },
    {
     "name": "stderr",
     "output_type": "stream",
     "text": [
      "[Parallel(n_jobs=-1)]: Using backend LokyBackend with 4 concurrent workers.\n",
      "[Parallel(n_jobs=-1)]: Done  33 tasks      | elapsed:   14.2s\n",
      "[Parallel(n_jobs=-1)]: Done 154 tasks      | elapsed:   58.0s\n",
      "[Parallel(n_jobs=-1)]: Done 357 tasks      | elapsed:  2.3min\n",
      "[Parallel(n_jobs=-1)]: Done 640 tasks      | elapsed:  4.3min\n",
      "[Parallel(n_jobs=-1)]: Done 1005 tasks      | elapsed:  6.7min\n",
      "[Parallel(n_jobs=-1)]: Done 1200 out of 1200 | elapsed:  7.9min finished\n"
     ]
    },
    {
     "data": {
      "text/plain": [
       "GridSearchCV(cv=3, error_score=nan,\n",
       "             estimator=RandomForestRegressor(bootstrap=True, ccp_alpha=0.0,\n",
       "                                             criterion='mse', max_depth=None,\n",
       "                                             max_features='auto',\n",
       "                                             max_leaf_nodes=None,\n",
       "                                             max_samples=None,\n",
       "                                             min_impurity_decrease=0.0,\n",
       "                                             min_impurity_split=None,\n",
       "                                             min_samples_leaf=1,\n",
       "                                             min_samples_split=2,\n",
       "                                             min_weight_fraction_leaf=0.0,\n",
       "                                             n_estimators=100, n_jobs=None,\n",
       "                                             oob_score=False, random_state=2,\n",
       "                                             verbose=0, warm_start=False),\n",
       "             iid='deprecated', n_jobs=-1,\n",
       "             param_grid={'max_features': [0.5, 'auto', 'sqrt', 'log2'],\n",
       "                         'min_samples_leaf': [2, 4, 6, 8, 10, 12, 14, 16, 18,\n",
       "                                              20],\n",
       "                         'n_estimators': [100, 200, 300, 400, 500, 600, 700,\n",
       "                                          800, 900, 1000]},\n",
       "             pre_dispatch='2*n_jobs', refit=True, return_train_score=False,\n",
       "             scoring='r2', verbose=2)"
      ]
     },
     "execution_count": 23,
     "metadata": {},
     "output_type": "execute_result"
    }
   ],
   "source": [
    "# Luckily scikit learn has implemented a Random Grid Search class for us :)\n",
    "from sklearn.model_selection import GridSearchCV\n",
    "\n",
    "# define values for parapemters for parameter grid\n",
    "n_estimators = list(range(100, 1001, 100))\n",
    "max_features = [0.5, 'auto', 'sqrt', 'log2']\n",
    "min_samples_leaf = list(range(2, 21, 2))\n",
    "param_grid = {'n_estimators': n_estimators,\n",
    "               'max_features': max_features,\n",
    "               'min_samples_leaf': min_samples_leaf}\n",
    "print(param_grid)\n",
    "\n",
    "# create the base model to tune\n",
    "model = RandomForestRegressor(random_state=2)\n",
    "# fit the grid seatch model\n",
    "grid_search = GridSearchCV(estimator=model,\n",
    "                           param_grid=param_grid,\n",
    "                           scoring='r2',\n",
    "                           cv=3,\n",
    "                           verbose=2,\n",
    "                           n_jobs=-1)\n",
    "grid_search.fit(X_train_fin, y_train)"
   ]
  },
  {
   "cell_type": "code",
   "execution_count": 24,
   "id": "3dd675c6",
   "metadata": {},
   "outputs": [
    {
     "name": "stdout",
     "output_type": "stream",
     "text": [
      "Our best paramters are: {'max_features': 0.5, 'min_samples_leaf': 2, 'n_estimators': 400}\n",
      "Obtained R2 score on the validation set: 0.8100\n"
     ]
    }
   ],
   "source": [
    "# inspect our best parameters and obtained R2 validation score\n",
    "print(f'Our best paramters are: {grid_search.best_params_}')\n",
    "print(f'Obtained R2 score on the validation set: {grid_search.best_score_:.4f}')"
   ]
  },
  {
   "cell_type": "markdown",
   "id": "e68207b8",
   "metadata": {},
   "source": [
    "## 6 // PREDICTION"
   ]
  },
  {
   "cell_type": "code",
   "execution_count": 25,
   "id": "82ebd0f3",
   "metadata": {},
   "outputs": [],
   "source": [
    "# the best model is returned by the GridSearchCV instance\n",
    "best_model = grid_search.best_estimator_"
   ]
  },
  {
   "cell_type": "code",
   "execution_count": 26,
   "id": "dffba381",
   "metadata": {},
   "outputs": [],
   "source": [
    "# prepare our test set to have the appropriate amount of features\n",
    "X_test = X_test.drop(columns=['river_access', 'before_1940'])"
   ]
  },
  {
   "cell_type": "code",
   "execution_count": 27,
   "id": "18ad5653",
   "metadata": {},
   "outputs": [
    {
     "name": "stdout",
     "output_type": "stream",
     "text": [
      "Obtained R2 score on the test set: 0.8057\n"
     ]
    }
   ],
   "source": [
    "# Evaluate the R2 score on the test set. Does our model generalize well?\n",
    "print(f'Obtained R2 score on the test set: {best_model.score(X_test, y_test):.4f}')"
   ]
  },
  {
   "cell_type": "markdown",
   "id": "31147542",
   "metadata": {},
   "source": [
    "Fertig! Wir können unser Modell jetzt verwenden, um die Preise für Häuser in Bostoner Vororten voherzusagen!"
   ]
  }
 ],
 "metadata": {
  "kernelspec": {
   "display_name": "Python 3",
   "language": "python",
   "name": "python3"
  },
  "language_info": {
   "codemirror_mode": {
    "name": "ipython",
    "version": 3
   },
   "file_extension": ".py",
   "mimetype": "text/x-python",
   "name": "python",
   "nbconvert_exporter": "python",
   "pygments_lexer": "ipython3",
   "version": "3.7.6"
  }
 },
 "nbformat": 4,
 "nbformat_minor": 5
}
