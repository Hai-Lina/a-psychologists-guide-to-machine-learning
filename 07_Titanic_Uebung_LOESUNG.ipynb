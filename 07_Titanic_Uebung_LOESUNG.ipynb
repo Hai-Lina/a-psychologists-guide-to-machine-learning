{
 "cells": [
  {
   "cell_type": "markdown",
   "id": "dfd1c6ce",
   "metadata": {},
   "source": [
    "# PROGRAMMIERÜBUNG: ÜBERLEBEN AUF DER TITANIC"
   ]
  },
  {
   "cell_type": "markdown",
   "id": "a62e3638",
   "metadata": {},
   "source": [
    "<font size=\"3\">In unserer Programmierübung werden wir uns heute einem historischen Klassifizierungsproblem widmen. Am 14. April 1912 kollidierte die Titanic, das bis dato größte Passagierschiff der Welt, mit einem Eisberg und sank. Die Mehrzahl der Passagiere hat die Tragödie nicht überlebt. Was aber unterscheidet Passagiere, die überlebten von Passagieren, die mit dem Schiff untergingen? Wir wollen heute ein Modell entwickeln, das das Überleben von Titanic-Passagieren aufgrund verschiedener Personenmerkmale vorhersagt. Los geht's!</font>"
   ]
  },
  {
   "cell_type": "code",
   "execution_count": 1,
   "id": "c8852d49",
   "metadata": {},
   "outputs": [],
   "source": [
    "import warnings\n",
    "warnings.filterwarnings(\"ignore\")"
   ]
  },
  {
   "cell_type": "markdown",
   "id": "92276787",
   "metadata": {},
   "source": [
    "## 1 // LOAD THE DATA"
   ]
  },
  {
   "cell_type": "markdown",
   "id": "2e24d3cb",
   "metadata": {},
   "source": [
    "<font size=\"3\">**Aufgabe 1**:\\\n",
    "Lade die Daten titanic.csv von github herunter und speichere sie an einem Ort deiner Wahl. Lese die Datei in Python in ein pandas Dataframe ein.</font>"
   ]
  },
  {
   "cell_type": "code",
   "execution_count": 2,
   "id": "98d5ade1",
   "metadata": {},
   "outputs": [],
   "source": [
    "import pandas as pd\n",
    "\n",
    "titanic = pd.read_csv('titanic_data/titanic.csv')"
   ]
  },
  {
   "cell_type": "markdown",
   "id": "318b0c29",
   "metadata": {},
   "source": [
    "## 2 // DATA EXPLORATION & CLEANING"
   ]
  },
  {
   "cell_type": "markdown",
   "id": "f2dca6a7",
   "metadata": {},
   "source": [
    "<font size=\"3\">**Aufgabe 2**:\\\n",
    "Verschaffe dir einen Überblick über die Daten. Beantworte dafür folgende Fragen:\n",
    "- Wie viele Datenpunkte befinden sich in unserem Datensatz?\n",
    "- Wie heißen die Variablen (Spalten) in unserem Datensatz und was bedeuten sie?\n",
    "- Welche Variablen beinhalten wie viele fehlende Werte?\n",
    "- Welche Datentypen haben unsere Variablen? Machen die Datentypen Sinn?\n",
    "\n",
    "Für mehr Infos über den Datensatz besuche: https://www.kaggle.com/c/titanic/data</font>"
   ]
  },
  {
   "cell_type": "code",
   "execution_count": 3,
   "id": "bbde918b",
   "metadata": {},
   "outputs": [
    {
     "data": {
      "text/html": [
       "<div>\n",
       "<style scoped>\n",
       "    .dataframe tbody tr th:only-of-type {\n",
       "        vertical-align: middle;\n",
       "    }\n",
       "\n",
       "    .dataframe tbody tr th {\n",
       "        vertical-align: top;\n",
       "    }\n",
       "\n",
       "    .dataframe thead th {\n",
       "        text-align: right;\n",
       "    }\n",
       "</style>\n",
       "<table border=\"1\" class=\"dataframe\">\n",
       "  <thead>\n",
       "    <tr style=\"text-align: right;\">\n",
       "      <th></th>\n",
       "      <th>PassengerId</th>\n",
       "      <th>Survived</th>\n",
       "      <th>Pclass</th>\n",
       "      <th>Name</th>\n",
       "      <th>Sex</th>\n",
       "      <th>Age</th>\n",
       "      <th>SibSp</th>\n",
       "      <th>Parch</th>\n",
       "      <th>Ticket</th>\n",
       "      <th>Fare</th>\n",
       "      <th>Cabin</th>\n",
       "      <th>Embarked</th>\n",
       "    </tr>\n",
       "  </thead>\n",
       "  <tbody>\n",
       "    <tr>\n",
       "      <th>0</th>\n",
       "      <td>1</td>\n",
       "      <td>0</td>\n",
       "      <td>3</td>\n",
       "      <td>Braund, Mr. Owen Harris</td>\n",
       "      <td>male</td>\n",
       "      <td>22.0</td>\n",
       "      <td>1</td>\n",
       "      <td>0</td>\n",
       "      <td>A/5 21171</td>\n",
       "      <td>7.2500</td>\n",
       "      <td>NaN</td>\n",
       "      <td>S</td>\n",
       "    </tr>\n",
       "    <tr>\n",
       "      <th>1</th>\n",
       "      <td>2</td>\n",
       "      <td>1</td>\n",
       "      <td>1</td>\n",
       "      <td>Cumings, Mrs. John Bradley (Florence Briggs Th...</td>\n",
       "      <td>female</td>\n",
       "      <td>38.0</td>\n",
       "      <td>1</td>\n",
       "      <td>0</td>\n",
       "      <td>PC 17599</td>\n",
       "      <td>71.2833</td>\n",
       "      <td>C85</td>\n",
       "      <td>C</td>\n",
       "    </tr>\n",
       "    <tr>\n",
       "      <th>2</th>\n",
       "      <td>3</td>\n",
       "      <td>1</td>\n",
       "      <td>3</td>\n",
       "      <td>Heikkinen, Miss. Laina</td>\n",
       "      <td>female</td>\n",
       "      <td>26.0</td>\n",
       "      <td>0</td>\n",
       "      <td>0</td>\n",
       "      <td>STON/O2. 3101282</td>\n",
       "      <td>7.9250</td>\n",
       "      <td>NaN</td>\n",
       "      <td>S</td>\n",
       "    </tr>\n",
       "    <tr>\n",
       "      <th>3</th>\n",
       "      <td>4</td>\n",
       "      <td>1</td>\n",
       "      <td>1</td>\n",
       "      <td>Futrelle, Mrs. Jacques Heath (Lily May Peel)</td>\n",
       "      <td>female</td>\n",
       "      <td>35.0</td>\n",
       "      <td>1</td>\n",
       "      <td>0</td>\n",
       "      <td>113803</td>\n",
       "      <td>53.1000</td>\n",
       "      <td>C123</td>\n",
       "      <td>S</td>\n",
       "    </tr>\n",
       "    <tr>\n",
       "      <th>4</th>\n",
       "      <td>5</td>\n",
       "      <td>0</td>\n",
       "      <td>3</td>\n",
       "      <td>Allen, Mr. William Henry</td>\n",
       "      <td>male</td>\n",
       "      <td>35.0</td>\n",
       "      <td>0</td>\n",
       "      <td>0</td>\n",
       "      <td>373450</td>\n",
       "      <td>8.0500</td>\n",
       "      <td>NaN</td>\n",
       "      <td>S</td>\n",
       "    </tr>\n",
       "  </tbody>\n",
       "</table>\n",
       "</div>"
      ],
      "text/plain": [
       "   PassengerId  Survived  Pclass  \\\n",
       "0            1         0       3   \n",
       "1            2         1       1   \n",
       "2            3         1       3   \n",
       "3            4         1       1   \n",
       "4            5         0       3   \n",
       "\n",
       "                                                Name     Sex   Age  SibSp  \\\n",
       "0                            Braund, Mr. Owen Harris    male  22.0      1   \n",
       "1  Cumings, Mrs. John Bradley (Florence Briggs Th...  female  38.0      1   \n",
       "2                             Heikkinen, Miss. Laina  female  26.0      0   \n",
       "3       Futrelle, Mrs. Jacques Heath (Lily May Peel)  female  35.0      1   \n",
       "4                           Allen, Mr. William Henry    male  35.0      0   \n",
       "\n",
       "   Parch            Ticket     Fare Cabin Embarked  \n",
       "0      0         A/5 21171   7.2500   NaN        S  \n",
       "1      0          PC 17599  71.2833   C85        C  \n",
       "2      0  STON/O2. 3101282   7.9250   NaN        S  \n",
       "3      0            113803  53.1000  C123        S  \n",
       "4      0            373450   8.0500   NaN        S  "
      ]
     },
     "execution_count": 3,
     "metadata": {},
     "output_type": "execute_result"
    }
   ],
   "source": [
    "titanic.head()"
   ]
  },
  {
   "cell_type": "code",
   "execution_count": 4,
   "id": "61e9d34a",
   "metadata": {},
   "outputs": [
    {
     "name": "stdout",
     "output_type": "stream",
     "text": [
      "Datenpunkte im Datensatz: 891\n",
      "\n",
      "Variablennamen: ['PassengerId', 'Survived', 'Pclass', 'Name', 'Sex', 'Age', 'SibSp', 'Parch', 'Ticket', 'Fare', 'Cabin', 'Embarked']\n",
      "\n",
      "Fehlende Werte:\n",
      "PassengerId      0\n",
      "Survived         0\n",
      "Pclass           0\n",
      "Name             0\n",
      "Sex              0\n",
      "Age            177\n",
      "SibSp            0\n",
      "Parch            0\n",
      "Ticket           0\n",
      "Fare             0\n",
      "Cabin          687\n",
      "Embarked         2\n",
      "dtype: int64\n",
      "\n",
      "Datentypen:\n",
      "PassengerId      int64\n",
      "Survived         int64\n",
      "Pclass           int64\n",
      "Name            object\n",
      "Sex             object\n",
      "Age            float64\n",
      "SibSp            int64\n",
      "Parch            int64\n",
      "Ticket          object\n",
      "Fare           float64\n",
      "Cabin           object\n",
      "Embarked        object\n",
      "dtype: object\n"
     ]
    }
   ],
   "source": [
    "print(f'Datenpunkte im Datensatz: {len(titanic)}')\n",
    "print(f'\\nVariablennamen: {list(titanic.columns)}')\n",
    "print(f'\\nFehlende Werte:')\n",
    "print(titanic.isnull().sum())\n",
    "print(f'\\nDatentypen:')\n",
    "print(titanic.dtypes)"
   ]
  },
  {
   "cell_type": "markdown",
   "id": "f54edc63",
   "metadata": {},
   "source": [
    "<font size=\"3\">**Aufgabe 3**:\\\n",
    "Ertstelle ein Balkendiagramm, das die Verteilung von Überlebenden und Nicht-Überlebenden beschreibt. Gib ihm einen Titel und beschrifte die Achsen.</font>"
   ]
  },
  {
   "cell_type": "code",
   "execution_count": 5,
   "id": "5ef9b7a9",
   "metadata": {},
   "outputs": [
    {
     "data": {
      "image/png": "[encoded data removed]",
      "text/plain": [
       "<Figure size 648x432 with 1 Axes>"
      ]
     },
     "metadata": {
      "needs_background": "light"
     },
     "output_type": "display_data"
    }
   ],
   "source": [
    "import matplotlib.pyplot as plt\n",
    "\n",
    "survived = pd.DataFrame(titanic.Survived.value_counts()).reset_index().rename(\n",
    "                        columns={'index': 'survived', 'Survived': 'count'})\n",
    "survived.plot.bar(x='survived', y='count', color='lightblue', figsize=(9, 6))\n",
    "plt.grid(axis='y')\n",
    "plt.title(\"Survival rate on the Titanic\")\n",
    "plt.xlabel(\"survival (0: no, 1: yes)\")\n",
    "plt.ylabel(\"frequency\")\n",
    "plt.show()"
   ]
  },
  {
   "cell_type": "markdown",
   "id": "ff47a824",
   "metadata": {},
   "source": [
    "<font size=\"3\">**Aufgabe 4**:\\\n",
    "Verschaffe dir einen Überblick über die Zusammenhänge zwischen features (unabhängigen Variablen) und vorherzusagender Variable (\"Survived\"). Erstelle dazu folgende Schaubilder:\n",
    "- ein Balkendiagramm, das die Variable \"Survived\" getrennt nach Geschlecht abbildet\n",
    "- ein Balkendiagramm, das die Variable \"Survived\" getrennt nach Ticketklassen abbildet\n",
    "- zwei Histogramme, die die Altersverteilung von Personen darstellen, die überlebt und nicht-überlebt haben\n",
    "- ein Balkendiagramm, das die Variable \"Survived\" getrennt nach zugestiegenem Hafen abbildet\n",
    "\n",
    "Gib deinen Plots wie immer eine Überschrift und Achsenbeschriftungen.</font>"
   ]
  },
  {
   "cell_type": "code",
   "execution_count": 6,
   "id": "7f70ebc5",
   "metadata": {},
   "outputs": [
    {
     "data": {
      "image/png": "[encoded data removed]",
      "text/plain": [
       "<Figure size 576x432 with 1 Axes>"
      ]
     },
     "metadata": {
      "needs_background": "light"
     },
     "output_type": "display_data"
    }
   ],
   "source": [
    "pd.crosstab(titanic['Sex'],titanic['Survived']).plot(kind=\"bar\", figsize=(8,6), color=['lightcoral', 'lightgreen'])\n",
    "plt.grid(axis='y')\n",
    "plt.title(\"Survival rate on the Titanic split by gender\")\n",
    "plt.xlabel(\"gender\")\n",
    "plt.ylabel(\"frequency\")\n",
    "plt.show()"
   ]
  },
  {
   "cell_type": "code",
   "execution_count": 7,
   "id": "76fe5296",
   "metadata": {},
   "outputs": [
    {
     "data": {
      "image/png": "[encoded data removed]",
      "text/plain": [
       "<Figure size 576x432 with 1 Axes>"
      ]
     },
     "metadata": {
      "needs_background": "light"
     },
     "output_type": "display_data"
    }
   ],
   "source": [
    "pd.crosstab(titanic['Pclass'],titanic['Survived']).plot(kind=\"bar\", figsize=(8,6), color=['lightcoral', 'lightgreen'])\n",
    "plt.grid(axis='y')\n",
    "plt.title(\"Survival rate on the Titanic split by ticket class\")\n",
    "plt.xlabel(\"ticket class\")\n",
    "plt.ylabel(\"frequency\")\n",
    "plt.show()"
   ]
  },
  {
   "cell_type": "code",
   "execution_count": 8,
   "id": "5e309e60",
   "metadata": {},
   "outputs": [
    {
     "data": {
      "text/plain": [
       "Text(0.5, 0, 'age')"
      ]
     },
     "execution_count": 8,
     "metadata": {},
     "output_type": "execute_result"
    },
    {
     "data": {
      "image/png": "[encoded data removed]",
      "text/plain": [
       "<Figure size 1080x360 with 2 Axes>"
      ]
     },
     "metadata": {
      "needs_background": "light"
     },
     "output_type": "display_data"
    }
   ],
   "source": [
    "fig, ax = plt.subplots(1, 2, figsize=(15, 5), sharey=True)\n",
    "titanic[titanic['Survived']==0]['Age'].plot.hist(ax=ax[0], bins=list(range(0, 81, 5)),\n",
    "                                                 edgecolor='white', color='lightcoral')\n",
    "titanic[titanic['Survived']==1]['Age'].plot.hist(ax=ax[1], bins=list(range(0, 81, 5)),\n",
    "                                                 edgecolor='white', color='lightblue')\n",
    "ax[0].grid(axis='y', linewidth=0.5)\n",
    "ax[1].grid(axis='y', linewidth=0.5)\n",
    "ax[0].set_title('Tote')\n",
    "ax[1].set_title('Überlebende')\n",
    "ax[0].set_xlabel('age')\n",
    "ax[1].set_xlabel('age')"
   ]
  },
  {
   "cell_type": "code",
   "execution_count": 9,
   "id": "c390fb3b",
   "metadata": {},
   "outputs": [
    {
     "data": {
      "image/png": "[encoded data removed]",
      "text/plain": [
       "<Figure size 576x432 with 1 Axes>"
      ]
     },
     "metadata": {
      "needs_background": "light"
     },
     "output_type": "display_data"
    }
   ],
   "source": [
    "pd.crosstab(titanic['Embarked'], titanic['Survived']).plot(kind=\"bar\", figsize=(8,6), color=['lightcoral', 'lightgreen'])\n",
    "plt.grid(axis='y')\n",
    "plt.title(\"Survival rate on the Titanic split by embarked port\")\n",
    "plt.xlabel(\"survival (0: no, 1: yes)\")\n",
    "plt.ylabel(\"frequency\")\n",
    "plt.show()"
   ]
  },
  {
   "cell_type": "markdown",
   "id": "cf55a90a",
   "metadata": {},
   "source": [
    "### MISSING VALUE IMPUTATION"
   ]
  },
  {
   "cell_type": "markdown",
   "id": "1c5b9cd9",
   "metadata": {},
   "source": [
    "<font size=\"3\">**Aufgabe 5:**\\\n",
    "Unser feature Alter hat eine Menge fehlender Werte. Wir können versuchen, die fehlenden Werte zu ersetzen. Eine Möglichkeit wäre, einfach den Mittelwert zu nehmen. Eine bessere Idee könnte sein, die Anrede aus dem Namen der Passagiere zu isolieren, für jede Klasse von Anreden einen eigenen Mittelwert zu bilden und diesen dann - je nach Anrede - für die fehlenden Werte einzusetzen. Tätige dazu folgende Schritte:\n",
    "- Bilde eine neue Splate im Dataframe namens 'Initial'.\n",
    "- Durchsuche für jeden Datenpunkt den Namen und extrahiere die Anrede mit einer regular expression.<sup>1</sup>\n",
    "- Speichere die extrahierte Anrede in der neuen Spalte 'Initial'.\n",
    "- Untersuche welche Anreden in der neuen Spalte Initial vertreten sind.\n",
    "- Alle Anreden außer Mr, Miss, Mrs & Master sind für uns uninteressant. Ersetze diese Anreden durch \"other\".\n",
    "- Berechne die Mittelwerte in jeder Klasse von Anreden. Runde auf.\n",
    "- Ersetze fehlende Werte in der Age Spalte durch die berechneten Mittelwerte.\n",
    "\n",
    "<sup>1</sup> Hinweis: Du kannst die pandas Funktion Series.str.extract() verwenden. Eine adäquate regular expression ist '([A-Za-z]+)\\.'. Die regular expression findet alle Zeichenfolgen im Namen gefolgt von einem Punkt. Übergebe der Funktion die regular expression als Parameter."
   ]
  },
  {
   "cell_type": "code",
   "execution_count": 10,
   "id": "1643fbea",
   "metadata": {},
   "outputs": [],
   "source": [
    "titanic['Initial'] = titanic.Name.str.extract('([A-Za-z]+)\\.')"
   ]
  },
  {
   "cell_type": "code",
   "execution_count": 11,
   "id": "2e4ef90e",
   "metadata": {},
   "outputs": [
    {
     "data": {
      "text/plain": [
       "Mr          517\n",
       "Miss        182\n",
       "Mrs         125\n",
       "Master       40\n",
       "Dr            7\n",
       "Rev           6\n",
       "Col           2\n",
       "Major         2\n",
       "Mlle          2\n",
       "Sir           1\n",
       "Mme           1\n",
       "Don           1\n",
       "Ms            1\n",
       "Countess      1\n",
       "Capt          1\n",
       "Jonkheer      1\n",
       "Lady          1\n",
       "Name: Initial, dtype: int64"
      ]
     },
     "execution_count": 11,
     "metadata": {},
     "output_type": "execute_result"
    }
   ],
   "source": [
    "titanic.Initial.value_counts()"
   ]
  },
  {
   "cell_type": "code",
   "execution_count": 12,
   "id": "a3e52968",
   "metadata": {},
   "outputs": [],
   "source": [
    "for passenger in range(len(titanic)):\n",
    "    if titanic['Initial'].iloc[passenger] not in ['Mr', 'Miss', 'Mrs', 'Master']:\n",
    "        titanic['Initial'].iloc[passenger] = 'other'"
   ]
  },
  {
   "cell_type": "code",
   "execution_count": 13,
   "id": "a30895e6",
   "metadata": {},
   "outputs": [
    {
     "data": {
      "text/plain": [
       "Initial\n",
       "Master     4.574167\n",
       "Miss      21.773973\n",
       "Mr        32.368090\n",
       "Mrs       35.898148\n",
       "other     42.384615\n",
       "Name: Age, dtype: float64"
      ]
     },
     "execution_count": 13,
     "metadata": {},
     "output_type": "execute_result"
    }
   ],
   "source": [
    "titanic.groupby('Initial')['Age'].mean()"
   ]
  },
  {
   "cell_type": "code",
   "execution_count": 14,
   "id": "43fb446c",
   "metadata": {},
   "outputs": [],
   "source": [
    "for initial, age in zip(['Mr', 'Miss', 'Mrs', 'Master', 'other'], [33, 22, 36, 5, 43]):\n",
    "    titanic.loc[(titanic.Age.isnull()) & (titanic.Initial==initial), 'Age'] = age"
   ]
  },
  {
   "cell_type": "markdown",
   "id": "0ea68e30",
   "metadata": {},
   "source": [
    "### FEATURE ENGINEERING"
   ]
  },
  {
   "cell_type": "markdown",
   "id": "6f87ef9e",
   "metadata": {},
   "source": [
    "<font size=\"3\">**Aufgabe 6:**\\\n",
    "Wir wollen einige der feature transformieren. Vor allem Klassifizierungsalgorithmen können schlecht mit metrischen unabhängigen Variablen umgehen.\n",
    "- Erstelle ein neues binäres feature 'Alone' aus den features 'SibSp' und 'Parch', das abbildet, ob eine Person alleine oder mit Familienmitgliedern gereist ist. (Welche Werte müssen 'SibSp' und 'Parch' annehmen, dass 'Alone' zutrifft?)\n",
    "- Erstelle ein Schaubild, das die Überlebensrate unter Alleinreisenden vs. Reisenden mit Familie abbildet.<sup>2</sup>\n",
    "- Transformiere das Alter in eine neue kategoriale Variable 'Age_cat' mit den Klassen 0-10, 11-20, 21-30, 31-40, 41-50, 51-60, 61-70, 70+.\n",
    "- Transformiere die Kosten des Tickets ('Fare') in eine neue kategoriale Variable 'Fare_cat' mit 5 gleich großen Klassen.<sup>3</sup>\n",
    "\n",
    "<sup>2</sup> Hinweis: Schaue dir das seaborn package mit der Funktion factorplot an.\\\n",
    "<sup>3</sup> Hinweis: Du kannst die pandas Funktion qcut verwenden.</font>"
   ]
  },
  {
   "cell_type": "code",
   "execution_count": 15,
   "id": "c6071354",
   "metadata": {},
   "outputs": [],
   "source": [
    "alone = []\n",
    "for passenger in range(len(titanic)):\n",
    "    if titanic['SibSp'].iloc[passenger] == 0 and titanic['Parch'].iloc[passenger] == 0:\n",
    "        alone.append(1)\n",
    "    else:\n",
    "        alone.append(0)\n",
    "titanic['Alone'] = alone"
   ]
  },
  {
   "cell_type": "code",
   "execution_count": 16,
   "id": "a69fd4fe",
   "metadata": {},
   "outputs": [
    {
     "data": {
      "image/png": "[encoded data removed]",
      "text/plain": [
       "<Figure size 432x432 with 1 Axes>"
      ]
     },
     "metadata": {
      "needs_background": "light"
     },
     "output_type": "display_data"
    }
   ],
   "source": [
    "import seaborn as sns\n",
    "\n",
    "sns.factorplot('Alone','Survived',data=titanic, size=6, color='lightcoral')\n",
    "plt.grid(axis='y')\n",
    "plt.title(\"Survival rate on the Titanic split travelling alone or with family\")\n",
    "plt.xlabel(\"travelling alone (0: no, 1: yes)\")\n",
    "plt.ylabel(\"chance of survival\")\n",
    "plt.show()"
   ]
  },
  {
   "cell_type": "code",
   "execution_count": 17,
   "id": "7f2e1a3a",
   "metadata": {},
   "outputs": [],
   "source": [
    "age_cat = []\n",
    "for passenger in range(len(titanic)):\n",
    "    if titanic.Age.iloc[passenger] <= 10:\n",
    "        age_cat.append(0)\n",
    "    if titanic.Age.iloc[passenger] > 10 and titanic.Age.iloc[passenger] <= 20:\n",
    "        age_cat.append(1)\n",
    "    if titanic.Age.iloc[passenger] > 20 and titanic.Age.iloc[passenger] <= 30:\n",
    "        age_cat.append(2)\n",
    "    if titanic.Age.iloc[passenger] > 30 and titanic.Age.iloc[passenger] <= 40:\n",
    "        age_cat.append(3)\n",
    "    if titanic.Age.iloc[passenger] > 40 and titanic.Age.iloc[passenger] <= 50:\n",
    "        age_cat.append(4)\n",
    "    if titanic.Age.iloc[passenger] > 50 and titanic.Age.iloc[passenger] <= 60:\n",
    "        age_cat.append(5)\n",
    "    if titanic.Age.iloc[passenger] > 60 and titanic.Age.iloc[passenger] <= 70:\n",
    "        age_cat.append(6)\n",
    "    if titanic.Age.iloc[passenger] > 70:\n",
    "        age_cat.append(7)\n",
    "\n",
    "titanic['Age_cat'] = age_cat"
   ]
  },
  {
   "cell_type": "code",
   "execution_count": 18,
   "id": "8b7adbc1",
   "metadata": {},
   "outputs": [
    {
     "data": {
      "text/plain": [
       "(7.854, 10.5]        184\n",
       "(21.679, 39.688]     180\n",
       "(-0.001, 7.854]      179\n",
       "(39.688, 512.329]    176\n",
       "(10.5, 21.679]       172\n",
       "Name: Fare_qcut, dtype: int64"
      ]
     },
     "execution_count": 18,
     "metadata": {},
     "output_type": "execute_result"
    }
   ],
   "source": [
    "titanic['Fare_qcut']=pd.qcut(titanic['Fare'], 5)\n",
    "titanic.Fare_qcut.value_counts()"
   ]
  },
  {
   "cell_type": "code",
   "execution_count": 19,
   "id": "5e36e0f9",
   "metadata": {},
   "outputs": [],
   "source": [
    "titanic['Fare_cat'] = 0\n",
    "\n",
    "titanic.loc[titanic['Fare'] <= 7.9, 'Fare_cat'] = 0\n",
    "titanic.loc[(titanic['Fare'] > 7.9) & (titanic['Fare'] <= 10.5), 'Fare_cat'] = 1\n",
    "titanic.loc[(titanic['Fare'] > 10.5) & (titanic['Fare'] <= 21.7), 'Fare_cat'] = 2\n",
    "titanic.loc[(titanic['Fare'] > 21.7) & (titanic['Fare'] <= 39.7), 'Fare_cat'] = 3\n",
    "titanic.loc[(titanic['Fare'] > 39.7), 'Fare_cat'] = 4"
   ]
  },
  {
   "cell_type": "markdown",
   "id": "a5b66ce8",
   "metadata": {},
   "source": [
    "<font size=\"3\">**Aufgabe 7:**\\\n",
    "Damit unser Algorithmus unsere kategorialen Variablen später verarbeiten kann, konvertieren wir die mit strings kodierten Variablen noch in mit Zahlen kodierte Variablen: Bearbeite 'Sex', 'Embarked' und 'Initial' so, dass die Kategorien durch Zahlen repräsentiert werden.\n",
    "\n",
    "Hinweis: Verwende die pandas Funktion replace.</font>"
   ]
  },
  {
   "cell_type": "code",
   "execution_count": 20,
   "id": "20c2b7fe",
   "metadata": {},
   "outputs": [],
   "source": [
    "titanic['Sex'].replace(['male', 'female'], [0, 1], inplace=True)\n",
    "titanic['Embarked'].replace(['S', 'C', 'Q'], [0, 1, 2], inplace=True)\n",
    "titanic['Initial'].replace(['Mr', 'Mrs', 'Miss', 'Master', 'other'], [0, 1, 2, 3, 4], inplace=True)"
   ]
  },
  {
   "cell_type": "code",
   "execution_count": 21,
   "id": "959851c6",
   "metadata": {},
   "outputs": [
    {
     "data": {
      "text/html": [
       "<div>\n",
       "<style scoped>\n",
       "    .dataframe tbody tr th:only-of-type {\n",
       "        vertical-align: middle;\n",
       "    }\n",
       "\n",
       "    .dataframe tbody tr th {\n",
       "        vertical-align: top;\n",
       "    }\n",
       "\n",
       "    .dataframe thead th {\n",
       "        text-align: right;\n",
       "    }\n",
       "</style>\n",
       "<table border=\"1\" class=\"dataframe\">\n",
       "  <thead>\n",
       "    <tr style=\"text-align: right;\">\n",
       "      <th></th>\n",
       "      <th>PassengerId</th>\n",
       "      <th>Survived</th>\n",
       "      <th>Pclass</th>\n",
       "      <th>Name</th>\n",
       "      <th>Sex</th>\n",
       "      <th>Age</th>\n",
       "      <th>SibSp</th>\n",
       "      <th>Parch</th>\n",
       "      <th>Ticket</th>\n",
       "      <th>Fare</th>\n",
       "      <th>Cabin</th>\n",
       "      <th>Embarked</th>\n",
       "      <th>Initial</th>\n",
       "      <th>Alone</th>\n",
       "      <th>Age_cat</th>\n",
       "      <th>Fare_qcut</th>\n",
       "      <th>Fare_cat</th>\n",
       "    </tr>\n",
       "  </thead>\n",
       "  <tbody>\n",
       "    <tr>\n",
       "      <th>0</th>\n",
       "      <td>1</td>\n",
       "      <td>0</td>\n",
       "      <td>3</td>\n",
       "      <td>Braund, Mr. Owen Harris</td>\n",
       "      <td>0</td>\n",
       "      <td>22.0</td>\n",
       "      <td>1</td>\n",
       "      <td>0</td>\n",
       "      <td>A/5 21171</td>\n",
       "      <td>7.2500</td>\n",
       "      <td>NaN</td>\n",
       "      <td>0.0</td>\n",
       "      <td>0</td>\n",
       "      <td>0</td>\n",
       "      <td>2</td>\n",
       "      <td>(-0.001, 7.854]</td>\n",
       "      <td>0</td>\n",
       "    </tr>\n",
       "    <tr>\n",
       "      <th>1</th>\n",
       "      <td>2</td>\n",
       "      <td>1</td>\n",
       "      <td>1</td>\n",
       "      <td>Cumings, Mrs. John Bradley (Florence Briggs Th...</td>\n",
       "      <td>1</td>\n",
       "      <td>38.0</td>\n",
       "      <td>1</td>\n",
       "      <td>0</td>\n",
       "      <td>PC 17599</td>\n",
       "      <td>71.2833</td>\n",
       "      <td>C85</td>\n",
       "      <td>1.0</td>\n",
       "      <td>1</td>\n",
       "      <td>0</td>\n",
       "      <td>3</td>\n",
       "      <td>(39.688, 512.329]</td>\n",
       "      <td>4</td>\n",
       "    </tr>\n",
       "    <tr>\n",
       "      <th>2</th>\n",
       "      <td>3</td>\n",
       "      <td>1</td>\n",
       "      <td>3</td>\n",
       "      <td>Heikkinen, Miss. Laina</td>\n",
       "      <td>1</td>\n",
       "      <td>26.0</td>\n",
       "      <td>0</td>\n",
       "      <td>0</td>\n",
       "      <td>STON/O2. 3101282</td>\n",
       "      <td>7.9250</td>\n",
       "      <td>NaN</td>\n",
       "      <td>0.0</td>\n",
       "      <td>2</td>\n",
       "      <td>1</td>\n",
       "      <td>2</td>\n",
       "      <td>(7.854, 10.5]</td>\n",
       "      <td>1</td>\n",
       "    </tr>\n",
       "    <tr>\n",
       "      <th>3</th>\n",
       "      <td>4</td>\n",
       "      <td>1</td>\n",
       "      <td>1</td>\n",
       "      <td>Futrelle, Mrs. Jacques Heath (Lily May Peel)</td>\n",
       "      <td>1</td>\n",
       "      <td>35.0</td>\n",
       "      <td>1</td>\n",
       "      <td>0</td>\n",
       "      <td>113803</td>\n",
       "      <td>53.1000</td>\n",
       "      <td>C123</td>\n",
       "      <td>0.0</td>\n",
       "      <td>1</td>\n",
       "      <td>0</td>\n",
       "      <td>3</td>\n",
       "      <td>(39.688, 512.329]</td>\n",
       "      <td>4</td>\n",
       "    </tr>\n",
       "    <tr>\n",
       "      <th>4</th>\n",
       "      <td>5</td>\n",
       "      <td>0</td>\n",
       "      <td>3</td>\n",
       "      <td>Allen, Mr. William Henry</td>\n",
       "      <td>0</td>\n",
       "      <td>35.0</td>\n",
       "      <td>0</td>\n",
       "      <td>0</td>\n",
       "      <td>373450</td>\n",
       "      <td>8.0500</td>\n",
       "      <td>NaN</td>\n",
       "      <td>0.0</td>\n",
       "      <td>0</td>\n",
       "      <td>1</td>\n",
       "      <td>3</td>\n",
       "      <td>(7.854, 10.5]</td>\n",
       "      <td>1</td>\n",
       "    </tr>\n",
       "  </tbody>\n",
       "</table>\n",
       "</div>"
      ],
      "text/plain": [
       "   PassengerId  Survived  Pclass  \\\n",
       "0            1         0       3   \n",
       "1            2         1       1   \n",
       "2            3         1       3   \n",
       "3            4         1       1   \n",
       "4            5         0       3   \n",
       "\n",
       "                                                Name  Sex   Age  SibSp  Parch  \\\n",
       "0                            Braund, Mr. Owen Harris    0  22.0      1      0   \n",
       "1  Cumings, Mrs. John Bradley (Florence Briggs Th...    1  38.0      1      0   \n",
       "2                             Heikkinen, Miss. Laina    1  26.0      0      0   \n",
       "3       Futrelle, Mrs. Jacques Heath (Lily May Peel)    1  35.0      1      0   \n",
       "4                           Allen, Mr. William Henry    0  35.0      0      0   \n",
       "\n",
       "             Ticket     Fare Cabin  Embarked  Initial  Alone  Age_cat  \\\n",
       "0         A/5 21171   7.2500   NaN       0.0        0      0        2   \n",
       "1          PC 17599  71.2833   C85       1.0        1      0        3   \n",
       "2  STON/O2. 3101282   7.9250   NaN       0.0        2      1        2   \n",
       "3            113803  53.1000  C123       0.0        1      0        3   \n",
       "4            373450   8.0500   NaN       0.0        0      1        3   \n",
       "\n",
       "           Fare_qcut  Fare_cat  \n",
       "0    (-0.001, 7.854]         0  \n",
       "1  (39.688, 512.329]         4  \n",
       "2      (7.854, 10.5]         1  \n",
       "3  (39.688, 512.329]         4  \n",
       "4      (7.854, 10.5]         1  "
      ]
     },
     "execution_count": 21,
     "metadata": {},
     "output_type": "execute_result"
    }
   ],
   "source": [
    "titanic.head()"
   ]
  },
  {
   "cell_type": "markdown",
   "id": "cfa88a0f",
   "metadata": {},
   "source": [
    "<font size=\"3\">**Aufgabe 8:**\\\n",
    "Bevor wir mit der Modellanpassung starten, eliminieren wir noch feature, die wir ausschließlich als Hilfsfeature erstellt haben oder die von unserem Algorithmus später nicht verarbeitet werden können: Schließe die feature 'PassengerId', 'Name', 'Age', 'SibSp', 'Parch', 'Ticket', 'Fare', 'Cabin', 'Fare_qcut' aus dem Dataframe aus.</font>"
   ]
  },
  {
   "cell_type": "code",
   "execution_count": 22,
   "id": "007e9d59",
   "metadata": {},
   "outputs": [],
   "source": [
    "titanic = titanic.drop(columns=['PassengerId', 'Name', 'Age', 'SibSp', 'Parch', 'Ticket', 'Fare', 'Cabin', 'Fare_qcut'])"
   ]
  },
  {
   "cell_type": "markdown",
   "id": "61dd4380",
   "metadata": {},
   "source": [
    "<font size=\"3\">Führe noch folgende Zelle aus, um die zwei Zeilen mit NaN Werten in 'Embarked' auszuschließen. (Die logistische Regression oder der Random Forest Classifier werfen sonst einen Fehler.)</font>"
   ]
  },
  {
   "cell_type": "code",
   "execution_count": 23,
   "id": "676b8692",
   "metadata": {},
   "outputs": [],
   "source": [
    "titanic = titanic.dropna()"
   ]
  },
  {
   "cell_type": "markdown",
   "id": "e797a946",
   "metadata": {},
   "source": [
    "### DATA PREPARATION: TRAIN-TEST SPLIT"
   ]
  },
  {
   "cell_type": "markdown",
   "id": "911f0376",
   "metadata": {},
   "source": [
    "<font size=\"3\">**Aufgabe 9:**\\\n",
    "Teile den Datensatz in train (60%), validation (20%) und test (20%) Datensatz auf. Verwende dazu zwei mal die sklearn Funktion train_test_split: Teile zuerst in train und test im Verhältnis 80 zu 20. Teile das so erhaltene train dann noch einmal in train und validation im Verhältnis 75 zu 25. Setze den Parameter random_state, um das Ergebnis reproduzierbar zu machen.</font>"
   ]
  },
  {
   "cell_type": "code",
   "execution_count": 24,
   "id": "3ea6e51d",
   "metadata": {},
   "outputs": [],
   "source": [
    "from sklearn.model_selection import train_test_split\n",
    "\n",
    "X_train, X_test, y_train, y_test = train_test_split(titanic.drop(columns=['Survived']), titanic.Survived,\n",
    "                                                    test_size=0.2, random_state=15)\n",
    "\n",
    "X_train, X_val, y_train, y_val = train_test_split(X_train, y_train, test_size=0.25, random_state=15)"
   ]
  },
  {
   "cell_type": "markdown",
   "id": "2f0743fb",
   "metadata": {},
   "source": [
    "## 3 + 4 // MODEL SELECTION & EVALUATION"
   ]
  },
  {
   "cell_type": "markdown",
   "id": "01d8be3c",
   "metadata": {},
   "source": [
    "<font size=\"3\">**Aufgabe 10:**\\\n",
    "Passe eine logistische Regression auf die Daten an. Wir wollen diese später mit einem Random Forest Classifier vergleichen. Evaluiere die Leistung des Models mit dem test Datensatz hinsichtlich seiner Genauigkeit (\"Accuracy\"). Erstelle ein Schaubild, das die Confusion Matrix zeigt. Sagt das Modell mehr falsch Positive oder falsch Negative voraus?\n",
    "\n",
    "Hinweis: Du kannst die Klasse LogisticRegression von sklearn benutzen. Du musst keine Parameter setzen, wenn du das Modell initialisierst. Sklearn stellt außerdem im Modul metrics die Funktionen accuracy_score und confusion_matrix zur Verfügung."
   ]
  },
  {
   "cell_type": "code",
   "execution_count": 25,
   "id": "dadd64e4",
   "metadata": {},
   "outputs": [
    {
     "name": "stdout",
     "output_type": "stream",
     "text": [
      "The accuracy of the Logistic Regression is 0.8089887640449438\n"
     ]
    }
   ],
   "source": [
    "from sklearn.linear_model import LogisticRegression\n",
    "from sklearn.metrics import accuracy_score, confusion_matrix\n",
    "\n",
    "log_reg = LogisticRegression()\n",
    "log_reg.fit(X_train, y_train)\n",
    "pred = log_reg.predict(X_test)\n",
    "print('The accuracy of the Logistic Regression is', accuracy_score(pred, y_test))"
   ]
  },
  {
   "cell_type": "code",
   "execution_count": 26,
   "id": "707c7f51",
   "metadata": {},
   "outputs": [
    {
     "data": {
      "text/plain": [
       "Text(33.0, 0.5, 'True label')"
      ]
     },
     "execution_count": 26,
     "metadata": {},
     "output_type": "execute_result"
    },
    {
     "data": {
      "image/png": "[encoded data removed]",
      "text/plain": [
       "<Figure size 432x288 with 2 Axes>"
      ]
     },
     "metadata": {
      "needs_background": "light"
     },
     "output_type": "display_data"
    }
   ],
   "source": [
    "sns.heatmap(confusion_matrix(y_test, pred), annot=True, fmt='2.0f')\n",
    "plt.title('Confusion Matrix Logistic Regression')\n",
    "plt.xlabel('Predicted label')\n",
    "plt.ylabel('True label')"
   ]
  },
  {
   "cell_type": "markdown",
   "id": "b1c5899a",
   "metadata": {},
   "source": [
    "<font size=\"3\">**Aufgabe11:**\\\n",
    "Passe einen Random Forest Classifier (ohne Parameter) auf die Daten an und evaluiere seinen accuracy score auf dem test Datensatz.</font>"
   ]
  },
  {
   "cell_type": "code",
   "execution_count": 27,
   "id": "981407ec",
   "metadata": {},
   "outputs": [
    {
     "name": "stdout",
     "output_type": "stream",
     "text": [
      "The accuracy of the Random Forest Classifier is 0.848314606741573\n"
     ]
    }
   ],
   "source": [
    "from sklearn.ensemble import RandomForestClassifier\n",
    "\n",
    "forest = RandomForestClassifier()\n",
    "forest.fit(X_train, y_train)\n",
    "pred = forest.predict(X_test)\n",
    "print('The accuracy of the Random Forest Classifier is', accuracy_score(pred, y_test))"
   ]
  },
  {
   "cell_type": "markdown",
   "id": "00f7f884",
   "metadata": {},
   "source": [
    "## 5 + 6 // FINE TUNING & PREDICTION"
   ]
  },
  {
   "cell_type": "markdown",
   "id": "d1ef2127",
   "metadata": {},
   "source": [
    "<font size=\"3\">**Aufgabe 12:**\\\n",
    "Passe die Hyperparameter deines Random Forest mit einer Random Grid Search an. Verwende das vorgegebene Parameter-Grid. (Oder probiere ein eigenes aus?)\n",
    "</font>"
   ]
  },
  {
   "cell_type": "code",
   "execution_count": 28,
   "id": "ed149661",
   "metadata": {},
   "outputs": [
    {
     "name": "stdout",
     "output_type": "stream",
     "text": [
      "{'n_estimators': [100, 200, 300, 400, 500, 600, 700, 800, 900, 1000], 'max_features': [0.5, 'auto', 'sqrt', 'log2'], 'min_samples_leaf': [2, 4, 6, 8, 10, 12, 14, 16, 18, 20]}\n",
      "Fitting 3 folds for each of 400 candidates, totalling 1200 fits\n"
     ]
    },
    {
     "name": "stderr",
     "output_type": "stream",
     "text": [
      "[Parallel(n_jobs=-1)]: Using backend LokyBackend with 4 concurrent workers.\n",
      "[Parallel(n_jobs=-1)]: Done  33 tasks      | elapsed:   16.5s\n",
      "[Parallel(n_jobs=-1)]: Done 154 tasks      | elapsed:  1.1min\n",
      "[Parallel(n_jobs=-1)]: Done 357 tasks      | elapsed:  2.6min\n",
      "[Parallel(n_jobs=-1)]: Done 640 tasks      | elapsed:  4.5min\n",
      "[Parallel(n_jobs=-1)]: Done 1005 tasks      | elapsed:  7.0min\n",
      "[Parallel(n_jobs=-1)]: Done 1200 out of 1200 | elapsed:  8.4min finished\n"
     ]
    },
    {
     "data": {
      "text/plain": [
       "GridSearchCV(cv=3, error_score=nan,\n",
       "             estimator=RandomForestClassifier(bootstrap=True, ccp_alpha=0.0,\n",
       "                                              class_weight=None,\n",
       "                                              criterion='gini', max_depth=None,\n",
       "                                              max_features='auto',\n",
       "                                              max_leaf_nodes=None,\n",
       "                                              max_samples=None,\n",
       "                                              min_impurity_decrease=0.0,\n",
       "                                              min_impurity_split=None,\n",
       "                                              min_samples_leaf=1,\n",
       "                                              min_samples_split=2,\n",
       "                                              min_weight_fraction_leaf=0.0,\n",
       "                                              n_estimators=100, n_jobs=None,\n",
       "                                              oob_score=False,\n",
       "                                              random_state=None, verbose=0,\n",
       "                                              warm_start=False),\n",
       "             iid='deprecated', n_jobs=-1,\n",
       "             param_grid={'max_features': [0.5, 'auto', 'sqrt', 'log2'],\n",
       "                         'min_samples_leaf': [2, 4, 6, 8, 10, 12, 14, 16, 18,\n",
       "                                              20],\n",
       "                         'n_estimators': [100, 200, 300, 400, 500, 600, 700,\n",
       "                                          800, 900, 1000]},\n",
       "             pre_dispatch='2*n_jobs', refit=True, return_train_score=False,\n",
       "             scoring='accuracy', verbose=2)"
      ]
     },
     "execution_count": 28,
     "metadata": {},
     "output_type": "execute_result"
    }
   ],
   "source": [
    "from sklearn.model_selection import GridSearchCV\n",
    "\n",
    "n_estimators = list(range(100, 1001, 100))\n",
    "max_features = [0.5, 'auto', 'sqrt', 'log2']\n",
    "min_samples_leaf = list(range(2, 21, 2))\n",
    "param_grid = {'n_estimators': n_estimators,\n",
    "               'max_features': max_features,\n",
    "               'min_samples_leaf': min_samples_leaf}\n",
    "print(param_grid)\n",
    "\n",
    "forest = RandomForestClassifier()\n",
    "\n",
    "grid_search = GridSearchCV(estimator=forest,\n",
    "                           param_grid=param_grid,\n",
    "                           scoring='accuracy',\n",
    "                           cv=3,\n",
    "                           verbose=2,\n",
    "                           n_jobs=-1)\n",
    "grid_search.fit(X_train, y_train)"
   ]
  },
  {
   "cell_type": "markdown",
   "id": "dd43d01d",
   "metadata": {},
   "source": [
    "<font size=\"3\">Rufe die besten Parameter für den Random Forest Classfier ab, die dir deine Grid Search zurückgibt. Berechne außerdem die accurary für das beste Modell aus der Grid Search.\n",
    "\n",
    "Hinweis: Sklearn's GridSearchCV Klasse speichert das beste Modell. Es kann über das Attribut best_estimator_ abgerufen werden.</font>"
   ]
  },
  {
   "cell_type": "code",
   "execution_count": 29,
   "id": "2a8a7916",
   "metadata": {},
   "outputs": [
    {
     "name": "stdout",
     "output_type": "stream",
     "text": [
      "{'max_features': 0.5, 'min_samples_leaf': 4, 'n_estimators': 1000}\n",
      "0.8370786516853933\n"
     ]
    }
   ],
   "source": [
    "print(grid_search.best_params_)\n",
    "print(grid_search.best_estimator_.score(X_test, y_test))"
   ]
  },
  {
   "cell_type": "markdown",
   "id": "93577379",
   "metadata": {},
   "source": [
    "<font size=\"3\">Stelle eine Confusion Matrix für den Random Forest Classifier auf? Sagt der Random Forest mehr falsch Positive oder falsch Negative voraus? Wie ist seine Leistung im Gegensatz zur logistischen Regression?</font>"
   ]
  },
  {
   "cell_type": "code",
   "execution_count": 30,
   "id": "698c54bf",
   "metadata": {},
   "outputs": [
    {
     "data": {
      "text/plain": [
       "Text(33.0, 0.5, 'True label')"
      ]
     },
     "execution_count": 30,
     "metadata": {},
     "output_type": "execute_result"
    },
    {
     "data": {
      "image/png": "[encoded data removed]",
      "text/plain": [
       "<Figure size 432x288 with 2 Axes>"
      ]
     },
     "metadata": {
      "needs_background": "light"
     },
     "output_type": "display_data"
    }
   ],
   "source": [
    "sns.heatmap(confusion_matrix(y_test, grid_search.best_estimator_.predict(X_test)), annot=True, fmt='2.0f')\n",
    "plt.title('Confusion Matrix Random Forest')\n",
    "plt.xlabel('Predicted label')\n",
    "plt.ylabel('True label')"
   ]
  },
  {
   "cell_type": "markdown",
   "id": "e81e0ac4",
   "metadata": {},
   "source": [
    "### Herzlichen Glückwunsch! :)"
   ]
  },
  {
   "cell_type": "markdown",
   "id": "1336cb45",
   "metadata": {},
   "source": [
    "<font size=\"3\">Wenn du es bis zu diesem Punkt geschafft hast, hast du einen Datensatz geladen, ihn analysiert und gereinigt. Schaubilder erstellt und feature engineering betrieben. Einen train-test-split durchgeführt, zwei verschiedene Modelle angepasst und diese verglichen. Way to go!</font>"
   ]
  },
  {
   "cell_type": "markdown",
   "id": "0d37291a",
   "metadata": {},
   "source": [
    "<font size=\"3\">Für weiterführende Informationen, Analysen und Modelle zum Titanic Datensatz empfehle ich:\\\n",
    "https://www.kaggle.com/ash316/eda-to-prediction-dietanic</font>"
   ]
  }
 ],
 "metadata": {
  "kernelspec": {
   "display_name": "Python 3",
   "language": "python",
   "name": "python3"
  },
  "language_info": {
   "codemirror_mode": {
    "name": "ipython",
    "version": 3
   },
   "file_extension": ".py",
   "mimetype": "text/x-python",
   "name": "python",
   "nbconvert_exporter": "python",
   "pygments_lexer": "ipython3",
   "version": "3.7.6"
  }
 },
 "nbformat": 4,
 "nbformat_minor": 5
}
