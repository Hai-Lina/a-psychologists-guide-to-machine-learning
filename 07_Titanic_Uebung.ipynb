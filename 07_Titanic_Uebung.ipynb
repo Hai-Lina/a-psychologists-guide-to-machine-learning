{
 "cells": [
  {
   "cell_type": "markdown",
   "id": "dfd1c6ce",
   "metadata": {},
   "source": [
    "# PROGRAMMIERÜBUNG: ÜBERLEBEN AUF DER TITANIC"
   ]
  },
  {
   "cell_type": "markdown",
   "id": "a62e3638",
   "metadata": {},
   "source": [
    "<font size=\"3\">In unserer Programmierübung werden wir uns heute einem historischen Klassifizierungsproblem widmen. Am 14. April 1912 kollidierte die Titanic, das bis dato größte Passagierschiff der Welt, mit einem Eisberg und sank. Die Mehrzahl der Passagiere hat die Tragödie nicht überlebt. Was aber unterscheidet Passagiere, die überlebten von Passagieren, die mit dem Schiff untergingen? Wir wollen heute ein Modell entwickeln, das das Überleben von Titanic-Passagieren aufgrund verschiedener Personenmerkmale vorhersagt. Los geht's!</font>"
   ]
  },
  {
   "cell_type": "markdown",
   "id": "92276787",
   "metadata": {},
   "source": [
    "## 1 // LOAD THE DATA"
   ]
  },
  {
   "cell_type": "markdown",
   "id": "2e24d3cb",
   "metadata": {},
   "source": [
    "<font size=\"3\">**Aufgabe 1**:\\\n",
    "Lade die Daten titanic.csv von github herunter und speichere sie an einem Ort deiner Wahl. Lese die Datei in Python in ein pandas Dataframe ein.</font>"
   ]
  },
  {
   "cell_type": "code",
   "execution_count": null,
   "id": "98d5ade1",
   "metadata": {},
   "outputs": [],
   "source": []
  },
  {
   "cell_type": "markdown",
   "id": "318b0c29",
   "metadata": {},
   "source": [
    "## 2 // DATA EXPLORATION & CLEANING"
   ]
  },
  {
   "cell_type": "markdown",
   "id": "f2dca6a7",
   "metadata": {},
   "source": [
    "<font size=\"3\">**Aufgabe 2**:\\\n",
    "Verschaffe dir einen Überblick über die Daten. Beantworte dafür folgende Fragen:\n",
    "- Wie viele Datenpunkte befinden sich in unserem Datensatz?\n",
    "- Wie heißen die Variablen (Spalten) in unserem Datensatz und was bedeuten sie?\n",
    "- Welche Variablen beinhalten wie viele fehlende Werte?\n",
    "- Welche Datentypen haben unsere Variablen? Machen die Datentypen Sinn?\n",
    "\n",
    "Für mehr Infos über den Datensatz besuche: https://www.kaggle.com/c/titanic/data</font>"
   ]
  },
  {
   "cell_type": "code",
   "execution_count": null,
   "id": "bbde918b",
   "metadata": {},
   "outputs": [],
   "source": []
  },
  {
   "cell_type": "markdown",
   "id": "f54edc63",
   "metadata": {},
   "source": [
    "<font size=\"3\">**Aufgabe 3**:\\\n",
    "Ertstelle ein Balkendiagramm, das die Verteilung von Überlebenden und Nicht-Überlebenden beschreibt. Gib ihm einen Titel und beschrifte die Achsen.</font>"
   ]
  },
  {
   "cell_type": "code",
   "execution_count": null,
   "id": "5ef9b7a9",
   "metadata": {},
   "outputs": [],
   "source": []
  },
  {
   "cell_type": "markdown",
   "id": "ff47a824",
   "metadata": {},
   "source": [
    "<font size=\"3\">**Aufgabe 4**:\\\n",
    "Verschaffe dir einen Überblick über die Zusammenhänge zwischen features (unabhängigen Variablen) und vorherzusagender Variable (\"Survived\"). Erstelle dazu folgende Schaubilder:\n",
    "- ein Balkendiagramm, das die Variable \"Survived\" getrennt nach Geschlecht abbildet\n",
    "- ein Balkendiagramm, das die Variable \"Survived\" getrennt nach Ticketklassen abbildet\n",
    "- zwei Histogramme, die die Altersverteilung von Personen darstellen, die überlebt und nicht-überlebt haben\n",
    "- ein Balkendiagramm, das die Variable \"Survived\" getrennt nach zugestiegenem Hafen abbildet\n",
    "\n",
    "Gib deinen Plots wie immer eine Überschrift und Achsenbeschriftungen.</font>"
   ]
  },
  {
   "cell_type": "code",
   "execution_count": null,
   "id": "7f70ebc5",
   "metadata": {},
   "outputs": [],
   "source": [
    "# bar plot survived / gender"
   ]
  },
  {
   "cell_type": "code",
   "execution_count": null,
   "id": "76fe5296",
   "metadata": {},
   "outputs": [],
   "source": [
    "# bar plot survived / ticket class"
   ]
  },
  {
   "cell_type": "code",
   "execution_count": null,
   "id": "5e309e60",
   "metadata": {},
   "outputs": [],
   "source": [
    "# histograms survived yes, no / age"
   ]
  },
  {
   "cell_type": "code",
   "execution_count": null,
   "id": "c390fb3b",
   "metadata": {},
   "outputs": [],
   "source": [
    "# bar plot survived / embarked"
   ]
  },
  {
   "cell_type": "markdown",
   "id": "cf55a90a",
   "metadata": {},
   "source": [
    "### MISSING VALUE IMPUTATION"
   ]
  },
  {
   "cell_type": "markdown",
   "id": "1c5b9cd9",
   "metadata": {},
   "source": [
    "<font size=\"3\">**Aufgabe 5:**\\\n",
    "Unser feature Alter hat eine Menge fehlender Werte. Wir können versuchen, die fehlenden Werte zu ersetzen. Eine Möglichkeit wäre, einfach den Mittelwert zu nehmen. Eine bessere Idee könnte sein, die Anrede aus dem Namen der Passagiere zu isolieren, für jede Klasse von Anreden einen eigenen Mittelwert zu bilden und diesen dann - je nach Anrede - für die fehlenden Werte einzusetzen. Tätige dazu folgende Schritte:\n",
    "- Bilde eine neue Splate im Dataframe namens 'Initial'.\n",
    "- Durchsuche für jeden Datenpunkt den Namen und extrahiere die Anrede mit einer regular expression.<sup>1</sup>\n",
    "- Speichere die extrahierte Anrede in der neuen Spalte 'Initial'.\n",
    "- Untersuche welche Anreden in der neuen Spalte Initial vertreten sind.\n",
    "- Alle Anreden außer Mr, Miss, Mrs & Master sind für uns uninteressant. Ersetze diese Anreden durch \"other\".\n",
    "- Berechne die Mittelwerte in jeder Klasse von Anreden. Runde auf.\n",
    "- Ersetze fehlende Werte in der Age Spalte durch die berechneten Mittelwerte.\n",
    "\n",
    "<sup>1</sup> Hinweis: Du kannst die pandas Funktion Series.str.extract() verwenden. Eine adäquate regular expression ist '([A-Za-z]+)\\.'. Die regular expression findet alle Zeichenfolgen im Namen gefolgt von einem Punkt. Übergebe der Funktion die regular expression als Parameter."
   ]
  },
  {
   "cell_type": "code",
   "execution_count": null,
   "id": "1643fbea",
   "metadata": {},
   "outputs": [],
   "source": [
    "# create column 'Initial'"
   ]
  },
  {
   "cell_type": "code",
   "execution_count": null,
   "id": "2e4ef90e",
   "metadata": {},
   "outputs": [],
   "source": [
    "# count unique values in 'Initial'"
   ]
  },
  {
   "cell_type": "code",
   "execution_count": null,
   "id": "a3e52968",
   "metadata": {},
   "outputs": [],
   "source": [
    "# replace other than Mr, Mrs, Miss, Master with 'other'"
   ]
  },
  {
   "cell_type": "code",
   "execution_count": null,
   "id": "a30895e6",
   "metadata": {},
   "outputs": [],
   "source": [
    "# calculate mean age by 'Initial' category"
   ]
  },
  {
   "cell_type": "code",
   "execution_count": null,
   "id": "43fb446c",
   "metadata": {},
   "outputs": [],
   "source": [
    "# impute missing age values"
   ]
  },
  {
   "cell_type": "markdown",
   "id": "0ea68e30",
   "metadata": {},
   "source": [
    "### FEATURE ENGINEERING"
   ]
  },
  {
   "cell_type": "markdown",
   "id": "6f87ef9e",
   "metadata": {},
   "source": [
    "<font size=\"3\">**Aufgabe 6:**\\\n",
    "Wir wollen einige der feature transformieren. Vor allem Klassifizierungsalgorithmen können schlecht mit metrischen unabhängigen Variablen umgehen.\n",
    "- Erstelle ein neues binäres feature 'Alone' aus den features 'SibSp' und 'Parch', das abbildet, ob eine Person alleine oder mit Familienmitgliedern gereist ist. (Welche Werte müssen 'SibSp' und 'Parch' annehmen, dass 'Alone' zutrifft?)\n",
    "- Erstelle ein Schaubild, das die Überlebensrate unter Alleinreisenden vs. Reisenden mit Familie abbildet.<sup>2</sup>\n",
    "- Transformiere das Alter in eine neue kategoriale Variable 'Age_cat' mit den Klassen 0-10, 11-20, 21-30, 31-40, 41-50, 51-60, 61-70, 70+.\n",
    "- Transformiere die Kosten des Tickets ('Fare') in eine neue kategoriale Variable 'Fare_cat' mit 5 gleich großen Klassen.<sup>3</sup>\n",
    "\n",
    "<sup>2</sup> Hinweis: Schaue dir das seaborn package mit der Funktion factorplot an.\\\n",
    "<sup>3</sup> Hinweis: Du kannst die pandas Funktion qcut verwenden.</font>"
   ]
  },
  {
   "cell_type": "code",
   "execution_count": null,
   "id": "c6071354",
   "metadata": {},
   "outputs": [],
   "source": [
    "# create feature 'Alone'"
   ]
  },
  {
   "cell_type": "code",
   "execution_count": null,
   "id": "a69fd4fe",
   "metadata": {},
   "outputs": [],
   "source": [
    "# plot Alone vs. Survived"
   ]
  },
  {
   "cell_type": "code",
   "execution_count": null,
   "id": "7f2e1a3a",
   "metadata": {},
   "outputs": [],
   "source": [
    "# create age categories"
   ]
  },
  {
   "cell_type": "code",
   "execution_count": null,
   "id": "8b7adbc1",
   "metadata": {},
   "outputs": [],
   "source": [
    "# create fare categories"
   ]
  },
  {
   "cell_type": "markdown",
   "id": "a5b66ce8",
   "metadata": {},
   "source": [
    "<font size=\"3\">**Aufgabe 7:**\\\n",
    "Damit unser Algorithmus unsere kategorialen Variablen später verarbeiten kann, konvertieren wir die mit strings kodierten Variablen noch in mit Zahlen kodierte Variablen: Bearbeite 'Sex', 'Embarked' und 'Initial' so, dass die Kategorien durch Zahlen repräsentiert werden.\n",
    "\n",
    "Hinweis: Verwende die pandas Funktion replace.</font>"
   ]
  },
  {
   "cell_type": "code",
   "execution_count": null,
   "id": "959851c6",
   "metadata": {},
   "outputs": [],
   "source": []
  },
  {
   "cell_type": "markdown",
   "id": "cfa88a0f",
   "metadata": {},
   "source": [
    "<font size=\"3\">**Aufgabe 8:**\\\n",
    "Bevor wir mit der Modellanpassung starten, eliminieren wir noch feature, die wir ausschließlich als Hilfsfeature erstellt haben oder die von unserem Algorithmus später nicht verarbeitet werden können: Schließe die feature 'PassengerId', 'Name', 'Age', 'SibSp', 'Parch', 'Ticket', 'Fare', 'Cabin', 'Fare_qcut' aus dem Dataframe aus.</font>"
   ]
  },
  {
   "cell_type": "code",
   "execution_count": null,
   "id": "007e9d59",
   "metadata": {},
   "outputs": [],
   "source": []
  },
  {
   "cell_type": "markdown",
   "id": "61dd4380",
   "metadata": {},
   "source": [
    "<font size=\"3\">Führe noch folgende Zelle aus, um die zwei Zeilen mit NaN Werten in 'Embarked' auszuschließen. (Die logistische Regression oder der Random Forest Classifier werfen sonst einen Fehler.)</font>"
   ]
  },
  {
   "cell_type": "code",
   "execution_count": null,
   "id": "676b8692",
   "metadata": {},
   "outputs": [],
   "source": [
    "titanic = titanic.dropna()"
   ]
  },
  {
   "cell_type": "markdown",
   "id": "e797a946",
   "metadata": {},
   "source": [
    "### DATA PREPARATION: TRAIN-TEST SPLIT"
   ]
  },
  {
   "cell_type": "markdown",
   "id": "911f0376",
   "metadata": {},
   "source": [
    "<font size=\"3\">**Aufgabe 9:**\\\n",
    "Teile den Datensatz in train (60%), validation (20%) und test (20%) Datensatz auf. Verwende dazu zwei mal die sklearn Funktion train_test_split: Teile zuerst in train und test im Verhältnis 80 zu 20. Teile das so erhaltene train dann noch einmal in train und validation im Verhältnis 75 zu 25. Setze den Parameter random_state, um das Ergebnis reproduzierbar zu machen.</font>"
   ]
  },
  {
   "cell_type": "code",
   "execution_count": null,
   "id": "3ea6e51d",
   "metadata": {},
   "outputs": [],
   "source": []
  },
  {
   "cell_type": "markdown",
   "id": "2f0743fb",
   "metadata": {},
   "source": [
    "## 3 + 4 // MODEL SELECTION & EVALUATION"
   ]
  },
  {
   "cell_type": "markdown",
   "id": "01d8be3c",
   "metadata": {},
   "source": [
    "<font size=\"3\">**Aufgabe 10:**\\\n",
    "Passe eine logistische Regression auf die Daten an. Wir wollen diese später mit einem Random Forest Classifier vergleichen. Evaluiere die Leistung des Models mit dem test Datensatz hinsichtlich seiner Genauigkeit (\"Accuracy\"). Erstelle ein Schaubild, das die Confusion Matrix zeigt. Sagt das Modell mehr falsch Positive oder falsch Negative voraus?\n",
    "\n",
    "Hinweis: Du kannst die Klasse LogisticRegression von sklearn benutzen. Du musst keine Parameter setzen, wenn du das Modell initialisierst. Sklearn stellt außerdem im Modul metrics die Funktionen accuracy_score und confusion_matrix zur Verfügung."
   ]
  },
  {
   "cell_type": "code",
   "execution_count": null,
   "id": "dadd64e4",
   "metadata": {},
   "outputs": [],
   "source": [
    "# fit Logistic Regression and calculate accuracy"
   ]
  },
  {
   "cell_type": "code",
   "execution_count": null,
   "id": "707c7f51",
   "metadata": {},
   "outputs": [],
   "source": [
    "# plot confustion matrix"
   ]
  },
  {
   "cell_type": "markdown",
   "id": "b1c5899a",
   "metadata": {},
   "source": [
    "<font size=\"3\">**Aufgabe11:**\\\n",
    "Passe einen Random Forest Classifier (ohne Parameter) auf die Daten an und evaluiere seinen accuracy score auf dem test Datensatz.</font>"
   ]
  },
  {
   "cell_type": "code",
   "execution_count": null,
   "id": "981407ec",
   "metadata": {},
   "outputs": [],
   "source": []
  },
  {
   "cell_type": "markdown",
   "id": "00f7f884",
   "metadata": {},
   "source": [
    "## 5 + 6 // FINE TUNING & PREDICTION"
   ]
  },
  {
   "cell_type": "markdown",
   "id": "d1ef2127",
   "metadata": {},
   "source": [
    "<font size=\"3\">**Aufgabe 12:**\\\n",
    "Passe die Hyperparameter deines Random Forest mit einer Random Grid Search an. Verwende das vorgegebene Parameter-Grid. (Oder probiere ein eigenes aus?)\n",
    "</font>"
   ]
  },
  {
   "cell_type": "code",
   "execution_count": null,
   "id": "ed149661",
   "metadata": {},
   "outputs": [],
   "source": []
  },
  {
   "cell_type": "markdown",
   "id": "dd43d01d",
   "metadata": {},
   "source": [
    "<font size=\"3\">Rufe die besten Parameter für den Random Forest Classfier ab, die dir deine Grid Search zurückgibt. Berechne außerdem die accurary für das beste Modell aus der Grid Search.\n",
    "\n",
    "Hinweis: Sklearn's GridSearchCV Klasse speichert das beste Modell. Es kann über das Attribut best_estimator_ abgerufen werden.</font>"
   ]
  },
  {
   "cell_type": "code",
   "execution_count": null,
   "id": "2a8a7916",
   "metadata": {},
   "outputs": [],
   "source": []
  },
  {
   "cell_type": "markdown",
   "id": "93577379",
   "metadata": {},
   "source": [
    "<font size=\"3\">Stelle eine Confusion Matrix für den Random Forest Classifier auf? Sagt der Random Forest mehr falsch Positive oder falsch Negative voraus? Wie ist seine Leistung im Gegensatz zur logistischen Regression?</font>"
   ]
  },
  {
   "cell_type": "code",
   "execution_count": null,
   "id": "698c54bf",
   "metadata": {},
   "outputs": [],
   "source": []
  },
  {
   "cell_type": "markdown",
   "id": "e81e0ac4",
   "metadata": {},
   "source": [
    "### Herzlichen Glückwunsch! :)"
   ]
  },
  {
   "cell_type": "markdown",
   "id": "1336cb45",
   "metadata": {},
   "source": [
    "<font size=\"3\">Wenn du es bis zu diesem Punkt geschafft hast, hast du einen Datensatz geladen, ihn analysiert und gereinigt. Schaubilder erstellt und feature engineering betrieben. Einen train-test-split durchgeführt, zwei verschiedene Modelle angepasst und diese verglichen. Way to go!</font>"
   ]
  },
  {
   "cell_type": "markdown",
   "id": "0d37291a",
   "metadata": {},
   "source": [
    "<font size=\"3\">Für weiterführende Informationen, Analysen und Modelle zum Titanic Datensatz empfehle ich:\\\n",
    "https://www.kaggle.com/ash316/eda-to-prediction-dietanic</font>"
   ]
  }
 ],
 "metadata": {
  "kernelspec": {
   "display_name": "Python 3",
   "language": "python",
   "name": "python3"
  },
  "language_info": {
   "codemirror_mode": {
    "name": "ipython",
    "version": 3
   },
   "file_extension": ".py",
   "mimetype": "text/x-python",
   "name": "python",
   "nbconvert_exporter": "python",
   "pygments_lexer": "ipython3",
   "version": "3.7.6"
  }
 },
 "nbformat": 4,
 "nbformat_minor": 5
}
